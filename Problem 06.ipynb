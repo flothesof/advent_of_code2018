{
 "cells": [
  {
   "cell_type": "markdown",
   "metadata": {},
   "source": [
    "This one is a matrix problem: let's use NumPy!"
   ]
  },
  {
   "cell_type": "markdown",
   "metadata": {},
   "source": [
    "# Sample input part 1 "
   ]
  },
  {
   "cell_type": "markdown",
   "metadata": {},
   "source": [
    "Let's start with the sample."
   ]
  },
  {
   "cell_type": "code",
   "execution_count": 1,
   "metadata": {},
   "outputs": [],
   "source": [
    "sample = \"\"\"1, 1\n",
    "1, 6\n",
    "8, 3\n",
    "3, 4\n",
    "5, 5\n",
    "8, 9\"\"\""
   ]
  },
  {
   "cell_type": "code",
   "execution_count": 2,
   "metadata": {},
   "outputs": [],
   "source": [
    "sources = [tuple(map(int, line.split(', '))) for line in sample.split('\\n')]"
   ]
  },
  {
   "cell_type": "code",
   "execution_count": 3,
   "metadata": {},
   "outputs": [
    {
     "data": {
      "text/plain": [
       "[(1, 1), (1, 6), (8, 3), (3, 4), (5, 5), (8, 9)]"
      ]
     },
     "execution_count": 3,
     "metadata": {},
     "output_type": "execute_result"
    }
   ],
   "source": [
    "sources"
   ]
  },
  {
   "cell_type": "markdown",
   "metadata": {},
   "source": [
    "Let's write a function that returns a numpy grid of closest distances given a source and a grid size."
   ]
  },
  {
   "cell_type": "code",
   "execution_count": 4,
   "metadata": {},
   "outputs": [],
   "source": [
    "import numpy as np\n",
    "\n",
    "def manhattan(source, grid_size):\n",
    "    n, m = grid_size\n",
    "    grid = np.empty(grid_size, dtype=int)\n",
    "    X, Y = np.meshgrid(np.arange(n), np.arange(m))\n",
    "    return np.abs(X - source[0]) + np.abs(Y - source[1])"
   ]
  },
  {
   "cell_type": "code",
   "execution_count": 5,
   "metadata": {},
   "outputs": [
    {
     "data": {
      "text/plain": [
       "array([[ 2,  1,  2,  3,  4,  5,  6,  7,  8,  9],\n",
       "       [ 1,  0,  1,  2,  3,  4,  5,  6,  7,  8],\n",
       "       [ 2,  1,  2,  3,  4,  5,  6,  7,  8,  9],\n",
       "       [ 3,  2,  3,  4,  5,  6,  7,  8,  9, 10],\n",
       "       [ 4,  3,  4,  5,  6,  7,  8,  9, 10, 11],\n",
       "       [ 5,  4,  5,  6,  7,  8,  9, 10, 11, 12],\n",
       "       [ 6,  5,  6,  7,  8,  9, 10, 11, 12, 13],\n",
       "       [ 7,  6,  7,  8,  9, 10, 11, 12, 13, 14],\n",
       "       [ 8,  7,  8,  9, 10, 11, 12, 13, 14, 15],\n",
       "       [ 9,  8,  9, 10, 11, 12, 13, 14, 15, 16]])"
      ]
     },
     "execution_count": 5,
     "metadata": {},
     "output_type": "execute_result"
    }
   ],
   "source": [
    "manhattan(sources[0], (10, 10))"
   ]
  },
  {
   "cell_type": "code",
   "execution_count": 6,
   "metadata": {},
   "outputs": [
    {
     "data": {
      "text/plain": [
       "array([[ 7,  6,  7,  8,  9, 10, 11, 12, 13, 14],\n",
       "       [ 6,  5,  6,  7,  8,  9, 10, 11, 12, 13],\n",
       "       [ 5,  4,  5,  6,  7,  8,  9, 10, 11, 12],\n",
       "       [ 4,  3,  4,  5,  6,  7,  8,  9, 10, 11],\n",
       "       [ 3,  2,  3,  4,  5,  6,  7,  8,  9, 10],\n",
       "       [ 2,  1,  2,  3,  4,  5,  6,  7,  8,  9],\n",
       "       [ 1,  0,  1,  2,  3,  4,  5,  6,  7,  8],\n",
       "       [ 2,  1,  2,  3,  4,  5,  6,  7,  8,  9],\n",
       "       [ 3,  2,  3,  4,  5,  6,  7,  8,  9, 10],\n",
       "       [ 4,  3,  4,  5,  6,  7,  8,  9, 10, 11]])"
      ]
     },
     "execution_count": 6,
     "metadata": {},
     "output_type": "execute_result"
    }
   ],
   "source": [
    "manhattan(sources[1], (10, 10))"
   ]
  },
  {
   "cell_type": "code",
   "execution_count": 7,
   "metadata": {},
   "outputs": [
    {
     "data": {
      "text/plain": [
       "array([[1, 1, 1, 1, 1, 1, 1, 1, 1, 1],\n",
       "       [1, 1, 1, 1, 1, 1, 1, 1, 1, 1],\n",
       "       [1, 1, 1, 1, 1, 1, 1, 1, 1, 1],\n",
       "       [1, 1, 1, 1, 1, 1, 1, 1, 1, 1],\n",
       "       [2, 2, 2, 2, 2, 2, 2, 2, 2, 2],\n",
       "       [2, 2, 2, 2, 2, 2, 2, 2, 2, 2],\n",
       "       [2, 2, 2, 2, 2, 2, 2, 2, 2, 2],\n",
       "       [2, 2, 2, 2, 2, 2, 2, 2, 2, 2],\n",
       "       [2, 2, 2, 2, 2, 2, 2, 2, 2, 2],\n",
       "       [2, 2, 2, 2, 2, 2, 2, 2, 2, 2]])"
      ]
     },
     "execution_count": 7,
     "metadata": {},
     "output_type": "execute_result"
    }
   ],
   "source": [
    "a = manhattan(sources[0], (10, 10))\n",
    "b = manhattan(sources[1], (10, 10))\n",
    "np.where(a < b, np.ones_like(a), np.ones_like(a) * 2) "
   ]
  },
  {
   "cell_type": "code",
   "execution_count": 8,
   "metadata": {},
   "outputs": [],
   "source": [
    "grid_size = (10, 10)\n",
    "nearest = np.ones(grid_size) * -1\n",
    "min_dist = np.ones(grid_size, dtype=int) * 10000\n",
    "for index, source in enumerate(sources):\n",
    "    dist = manhattan(source, grid_size)\n",
    "    nearest[dist == min_dist] = np.nan\n",
    "    nearest = np.where(dist < min_dist, np.zeros_like(nearest) + index, nearest)\n",
    "    min_dist = np.where(dist < min_dist, dist, min_dist)"
   ]
  },
  {
   "cell_type": "code",
   "execution_count": 9,
   "metadata": {},
   "outputs": [
    {
     "data": {
      "text/plain": [
       "array([[  0.,   0.,   0.,   0.,   0.,  nan,   2.,   2.,   2.,   2.],\n",
       "       [  0.,   0.,   0.,   0.,   0.,  nan,   2.,   2.,   2.,   2.],\n",
       "       [  0.,   0.,   0.,   3.,   3.,   4.,   2.,   2.,   2.,   2.],\n",
       "       [  0.,   0.,   3.,   3.,   3.,   4.,   2.,   2.,   2.,   2.],\n",
       "       [ nan,  nan,   3.,   3.,   3.,   4.,   4.,   2.,   2.,   2.],\n",
       "       [  1.,   1.,  nan,   3.,   4.,   4.,   4.,   4.,   2.,   2.],\n",
       "       [  1.,   1.,   1.,  nan,   4.,   4.,   4.,   4.,  nan,  nan],\n",
       "       [  1.,   1.,   1.,  nan,   4.,   4.,   4.,   5.,   5.,   5.],\n",
       "       [  1.,   1.,   1.,  nan,   4.,   4.,   5.,   5.,   5.,   5.],\n",
       "       [  1.,   1.,   1.,  nan,   5.,   5.,   5.,   5.,   5.,   5.]])"
      ]
     },
     "execution_count": 9,
     "metadata": {},
     "output_type": "execute_result"
    }
   ],
   "source": [
    "nearest"
   ]
  },
  {
   "cell_type": "markdown",
   "metadata": {},
   "source": [
    "If we set the infinite groups to zero that would be the 0, 2, 1 and 5 we would get:"
   ]
  },
  {
   "cell_type": "code",
   "execution_count": 10,
   "metadata": {},
   "outputs": [],
   "source": [
    "infinites = [0, 2, 1, 5]\n",
    "for infinite in infinites:\n",
    "    nearest[nearest == infinite] = np.nan"
   ]
  },
  {
   "cell_type": "code",
   "execution_count": 11,
   "metadata": {},
   "outputs": [
    {
     "name": "stdout",
     "output_type": "stream",
     "text": [
      "3 9\n",
      "4 17\n"
     ]
    }
   ],
   "source": [
    "for i in (set(range(len(sources))) - set(infinites)):\n",
    "    print(i, np.nansum(nearest == i))"
   ]
  },
  {
   "cell_type": "markdown",
   "metadata": {},
   "source": [
    "# Part 1 for real "
   ]
  },
  {
   "cell_type": "code",
   "execution_count": 12,
   "metadata": {},
   "outputs": [],
   "source": [
    "sources = [tuple(map(int, line.split(', '))) for line in open('input06.txt').readlines()]"
   ]
  },
  {
   "cell_type": "code",
   "execution_count": 13,
   "metadata": {},
   "outputs": [
    {
     "data": {
      "text/plain": [
       "array([47, 43])"
      ]
     },
     "execution_count": 13,
     "metadata": {},
     "output_type": "execute_result"
    }
   ],
   "source": [
    "np.array(sources).min(axis=0)"
   ]
  },
  {
   "cell_type": "code",
   "execution_count": 14,
   "metadata": {},
   "outputs": [
    {
     "data": {
      "text/plain": [
       "array([355, 349])"
      ]
     },
     "execution_count": 14,
     "metadata": {},
     "output_type": "execute_result"
    }
   ],
   "source": [
    "np.array(sources).max(axis=0)"
   ]
  },
  {
   "cell_type": "code",
   "execution_count": 15,
   "metadata": {},
   "outputs": [],
   "source": [
    "grid_size = (360, 360)\n",
    "nearest = np.ones(grid_size) * -1\n",
    "min_dist = np.ones(grid_size, dtype=int) * 10000\n",
    "for index, source in enumerate(sources):\n",
    "    dist = manhattan(source, grid_size)\n",
    "    nearest[dist == min_dist] = np.nan\n",
    "    nearest = np.where(dist < min_dist, np.zeros_like(nearest) + index, nearest)\n",
    "    min_dist = np.where(dist < min_dist, dist, min_dist)"
   ]
  },
  {
   "cell_type": "code",
   "execution_count": 16,
   "metadata": {},
   "outputs": [
    {
     "data": {
      "text/plain": [
       "array([[  0.,   0.,   0., ...,  28.,  28.,  28.],\n",
       "       [  0.,   0.,   0., ...,  28.,  28.,  28.],\n",
       "       [  0.,   0.,   0., ...,  28.,  28.,  28.],\n",
       "       ..., \n",
       "       [  9.,   9.,   9., ...,  37.,  37.,  37.],\n",
       "       [  9.,   9.,   9., ...,  37.,  37.,  37.],\n",
       "       [  9.,   9.,   9., ...,  37.,  37.,  37.]])"
      ]
     },
     "execution_count": 16,
     "metadata": {},
     "output_type": "execute_result"
    }
   ],
   "source": [
    "nearest"
   ]
  },
  {
   "cell_type": "markdown",
   "metadata": {},
   "source": [
    "The funny thing here is that this view of the matrix directly allows us to set the four corners as the infinites since it's the nearest neighbor to each corner that will be the infinite one!"
   ]
  },
  {
   "cell_type": "code",
   "execution_count": 17,
   "metadata": {},
   "outputs": [],
   "source": [
    "infinites = [0, 9, 28, 37]\n",
    "for infinite in infinites:\n",
    "    nearest[nearest == infinite] = np.nan"
   ]
  },
  {
   "cell_type": "code",
   "execution_count": 18,
   "metadata": {},
   "outputs": [
    {
     "name": "stdout",
     "output_type": "stream",
     "text": [
      "1 1086\n",
      "2 2705\n",
      "3 2730\n",
      "4 1780\n",
      "5 871\n",
      "6 3873\n",
      "7 2996\n",
      "8 2303\n",
      "10 1015\n",
      "11 2972\n",
      "12 3982\n",
      "13 2310\n",
      "14 4114\n",
      "15 3428\n",
      "16 2392\n",
      "17 1759\n",
      "18 4732\n",
      "19 4491\n",
      "20 2214\n",
      "21 527\n",
      "22 3879\n",
      "23 735\n",
      "24 1352\n",
      "25 1627\n",
      "26 813\n",
      "27 1756\n",
      "29 946\n",
      "30 3532\n",
      "31 3117\n",
      "32 729\n",
      "33 2662\n",
      "34 2296\n",
      "35 5187\n",
      "36 318\n",
      "38 1062\n",
      "39 2902\n",
      "40 3255\n",
      "41 1632\n",
      "42 120\n",
      "43 2931\n",
      "44 1494\n",
      "45 2636\n",
      "46 1437\n",
      "47 356\n",
      "48 4050\n",
      "49 4493\n"
     ]
    }
   ],
   "source": [
    "for i in (set(range(len(sources))) - set(infinites)):\n",
    "    print(i, np.nansum(nearest == i))"
   ]
  },
  {
   "cell_type": "code",
   "execution_count": 19,
   "metadata": {},
   "outputs": [
    {
     "data": {
      "text/plain": [
       "5187"
      ]
     },
     "execution_count": 19,
     "metadata": {},
     "output_type": "execute_result"
    }
   ],
   "source": [
    "max(np.nansum(nearest == i) for i in (set(range(len(sources))) - set(infinites)))"
   ]
  },
  {
   "cell_type": "markdown",
   "metadata": {},
   "source": [
    "# Part 2 sample "
   ]
  },
  {
   "cell_type": "code",
   "execution_count": 20,
   "metadata": {},
   "outputs": [],
   "source": [
    "sources = [tuple(map(int, line.split(', '))) for line in sample.split('\\n')]"
   ]
  },
  {
   "cell_type": "code",
   "execution_count": 21,
   "metadata": {},
   "outputs": [],
   "source": [
    "X, Y = np.meshgrid(np.arange(10), np.arange(10))"
   ]
  },
  {
   "cell_type": "code",
   "execution_count": 22,
   "metadata": {},
   "outputs": [],
   "source": [
    "total = np.zeros((10, 10))\n",
    "for source in sources:\n",
    "    total += np.abs(X - source[0]) + np.abs(Y - source[1])"
   ]
  },
  {
   "cell_type": "code",
   "execution_count": 23,
   "metadata": {},
   "outputs": [
    {
     "data": {
      "text/plain": [
       "array([[0, 0, 0, 0, 0, 0, 0, 0, 0, 0],\n",
       "       [0, 0, 0, 0, 0, 0, 0, 0, 0, 0],\n",
       "       [0, 0, 0, 0, 0, 0, 0, 0, 0, 0],\n",
       "       [0, 0, 0, 1, 1, 1, 0, 0, 0, 0],\n",
       "       [0, 0, 1, 1, 1, 1, 1, 0, 0, 0],\n",
       "       [0, 0, 1, 1, 1, 1, 1, 0, 0, 0],\n",
       "       [0, 0, 0, 1, 1, 1, 0, 0, 0, 0],\n",
       "       [0, 0, 0, 0, 0, 0, 0, 0, 0, 0],\n",
       "       [0, 0, 0, 0, 0, 0, 0, 0, 0, 0],\n",
       "       [0, 0, 0, 0, 0, 0, 0, 0, 0, 0]])"
      ]
     },
     "execution_count": 23,
     "metadata": {},
     "output_type": "execute_result"
    }
   ],
   "source": [
    "np.where(total < 32, 1, 0)"
   ]
  },
  {
   "cell_type": "code",
   "execution_count": 24,
   "metadata": {},
   "outputs": [
    {
     "data": {
      "text/plain": [
       "16"
      ]
     },
     "execution_count": 24,
     "metadata": {},
     "output_type": "execute_result"
    }
   ],
   "source": [
    "np.sum(np.where(total < 32, 1, 0))"
   ]
  },
  {
   "cell_type": "markdown",
   "metadata": {},
   "source": [
    "# Part 2 for real "
   ]
  },
  {
   "cell_type": "code",
   "execution_count": 25,
   "metadata": {},
   "outputs": [],
   "source": [
    "sources = [tuple(map(int, line.split(', '))) for line in open('input06.txt').readlines()]"
   ]
  },
  {
   "cell_type": "code",
   "execution_count": 26,
   "metadata": {},
   "outputs": [],
   "source": [
    "grid_size = (360, 360)"
   ]
  },
  {
   "cell_type": "code",
   "execution_count": 27,
   "metadata": {},
   "outputs": [],
   "source": [
    "X, Y = np.meshgrid(np.arange(360), np.arange(360))"
   ]
  },
  {
   "cell_type": "code",
   "execution_count": 28,
   "metadata": {},
   "outputs": [],
   "source": [
    "total = np.zeros(grid_size)\n",
    "for source in sources:\n",
    "    total += np.abs(X - source[0]) + np.abs(Y - source[1])"
   ]
  },
  {
   "cell_type": "code",
   "execution_count": 29,
   "metadata": {},
   "outputs": [
    {
     "data": {
      "text/plain": [
       "34829"
      ]
     },
     "execution_count": 29,
     "metadata": {},
     "output_type": "execute_result"
    }
   ],
   "source": [
    "np.sum(np.where(total < 10000, 1, 0))"
   ]
  }
 ],
 "metadata": {
  "kernelspec": {
   "display_name": "Python 3",
   "language": "python",
   "name": "python3"
  },
  "language_info": {
   "codemirror_mode": {
    "name": "ipython",
    "version": 3
   },
   "file_extension": ".py",
   "mimetype": "text/x-python",
   "name": "python",
   "nbconvert_exporter": "python",
   "pygments_lexer": "ipython3",
   "version": "3.6.1"
  },
  "toc": {
   "colors": {
    "hover_highlight": "#DAA520",
    "navigate_num": "#000000",
    "navigate_text": "#333333",
    "running_highlight": "#FF0000",
    "selected_highlight": "#FFD700",
    "sidebar_border": "#EEEEEE",
    "wrapper_background": "#FFFFFF"
   },
   "moveMenuLeft": true,
   "nav_menu": {
    "height": "84px",
    "width": "252px"
   },
   "navigate_menu": true,
   "number_sections": true,
   "sideBar": true,
   "threshold": 4,
   "toc_cell": false,
   "toc_section_display": "block",
   "toc_window_display": false,
   "widenNotebook": false
  }
 },
 "nbformat": 4,
 "nbformat_minor": 2
}
