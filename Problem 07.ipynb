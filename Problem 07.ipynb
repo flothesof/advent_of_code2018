{
 "cells": [
  {
   "cell_type": "markdown",
   "metadata": {},
   "source": [
    "# Part 1 "
   ]
  },
  {
   "cell_type": "markdown",
   "metadata": {},
   "source": [
    "## Part 1: sample"
   ]
  },
  {
   "cell_type": "markdown",
   "metadata": {},
   "source": [
    "Let's start with the sample problem."
   ]
  },
  {
   "cell_type": "code",
   "execution_count": 1,
   "metadata": {},
   "outputs": [],
   "source": [
    "sample = \"\"\"Step C must be finished before step A can begin.\n",
    "Step C must be finished before step F can begin.\n",
    "Step A must be finished before step B can begin.\n",
    "Step A must be finished before step D can begin.\n",
    "Step B must be finished before step E can begin.\n",
    "Step D must be finished before step E can begin.\n",
    "Step F must be finished before step E can begin.\"\"\""
   ]
  },
  {
   "cell_type": "code",
   "execution_count": 2,
   "metadata": {},
   "outputs": [],
   "source": [
    "parsed_input = [(line[5], line[36]) for line in sample.split('\\n')]\n",
    "unique = set([item[0] for item in parsed_input])\n",
    "unique.update(set([item[1] for item in parsed_input]))\n",
    "prerequisites = {node: list() for node in unique}\n",
    "for before, after in parsed_input:\n",
    "    prerequisites[after] += [before]"
   ]
  },
  {
   "cell_type": "code",
   "execution_count": 3,
   "metadata": {},
   "outputs": [],
   "source": [
    "def possible(prerequisites):\n",
    "    candidates = []\n",
    "    for key in prerequisites:\n",
    "        if len(prerequisites[key]) == 0:\n",
    "            candidates.append(key)\n",
    "    return candidates"
   ]
  },
  {
   "cell_type": "code",
   "execution_count": 4,
   "metadata": {},
   "outputs": [],
   "source": [
    "def update(prerequisites, chosen):\n",
    "    updated = {}\n",
    "    for key in prerequisites:\n",
    "        updated[key] = [item for item in prerequisites[key] if item != chosen]\n",
    "    return updated"
   ]
  },
  {
   "cell_type": "code",
   "execution_count": 5,
   "metadata": {},
   "outputs": [
    {
     "data": {
      "text/plain": [
       "'CABDFE'"
      ]
     },
     "execution_count": 5,
     "metadata": {},
     "output_type": "execute_result"
    }
   ],
   "source": [
    "seq = ''\n",
    "while len(prerequisites) > 0:\n",
    "    candidates = sorted(possible(prerequisites))\n",
    "    if len(candidates) == 0:\n",
    "        break\n",
    "    chosen = candidates[0]\n",
    "    prerequisites = update(prerequisites, chosen)\n",
    "    del prerequisites[chosen]\n",
    "    seq += chosen\n",
    "seq"
   ]
  },
  {
   "cell_type": "markdown",
   "metadata": {},
   "source": [
    "## Part 1: real input "
   ]
  },
  {
   "cell_type": "code",
   "execution_count": 6,
   "metadata": {},
   "outputs": [],
   "source": [
    "parsed_input = [(line[5], line[36]) for line in open('input07').readlines()]\n",
    "\n",
    "unique = set([item[0] for item in parsed_input])\n",
    "unique.update(set([item[1] for item in parsed_input]))\n",
    "prerequisites = {node: list() for node in unique}\n",
    "for before, after in parsed_input:\n",
    "    prerequisites[after] += [before]"
   ]
  },
  {
   "cell_type": "code",
   "execution_count": 7,
   "metadata": {},
   "outputs": [
    {
     "data": {
      "text/plain": [
       "'BGJCNLQUYIFMOEZTADKSPVXRHW'"
      ]
     },
     "execution_count": 7,
     "metadata": {},
     "output_type": "execute_result"
    }
   ],
   "source": [
    "seq = ''\n",
    "while len(prerequisites) > 0:\n",
    "    candidates = sorted(possible(prerequisites))\n",
    "    if len(candidates) == 0:\n",
    "        break\n",
    "    chosen = candidates[0]\n",
    "    prerequisites = update(prerequisites, chosen)\n",
    "    del prerequisites[chosen]\n",
    "    seq += chosen\n",
    "seq"
   ]
  },
  {
   "cell_type": "markdown",
   "metadata": {},
   "source": [
    "# Part 2 "
   ]
  },
  {
   "cell_type": "markdown",
   "metadata": {},
   "source": [
    "## Part 2: sample "
   ]
  },
  {
   "cell_type": "code",
   "execution_count": 66,
   "metadata": {},
   "outputs": [],
   "source": [
    "def prepare_sample_input():\n",
    "    parsed_input = [(line[5], line[36]) for line in sample.split('\\n')]\n",
    "    unique = set([item[0] for item in parsed_input])\n",
    "    unique.update(set([item[1] for item in parsed_input]))\n",
    "    prerequisites = {node: list() for node in unique}\n",
    "    for before, after in parsed_input:\n",
    "        prerequisites[after] += [before]\n",
    "    all_steps = list(prerequisites.keys())\n",
    "    return prerequisites, all_steps"
   ]
  },
  {
   "cell_type": "code",
   "execution_count": 64,
   "metadata": {},
   "outputs": [],
   "source": [
    "def step_duration(step, offset=60):\n",
    "    return dict(zip('ABCDEFGHIJKLMNOPQRSTUVWXYZ', range(offset+1, offset+27)))[step]"
   ]
  },
  {
   "cell_type": "code",
   "execution_count": 80,
   "metadata": {},
   "outputs": [
    {
     "data": {
      "text/plain": [
       "('CABFDE', 15)"
      ]
     },
     "execution_count": 80,
     "metadata": {},
     "output_type": "execute_result"
    }
   ],
   "source": [
    "prerequisites, all_steps = prepare_sample_input()\n",
    "done = []\n",
    "underway = {}\n",
    "idle_workers = 2\n",
    "n_steps = 0\n",
    "\n",
    "while len(done) < len(all_steps):\n",
    "    # set worker to work if possible\n",
    "    while idle_workers > 0:\n",
    "        candidates = sorted([c for c in possible(prerequisites) if not c in done if not c in underway])\n",
    "        if len(candidates) == 0:\n",
    "            break\n",
    "        chosen = candidates[0]\n",
    "        underway[chosen] = step_duration(chosen, offset=0) - 1\n",
    "        idle_workers -= 1\n",
    "\n",
    "    # update tasks that are running\n",
    "    for step in list(underway.keys()):\n",
    "        remaining = underway[step] \n",
    "        if remaining == 0:\n",
    "            prerequisites = update(prerequisites, step)\n",
    "            del prerequisites[step]\n",
    "            del underway[step]\n",
    "            idle_workers += 1\n",
    "            done.append(step)\n",
    "        else:\n",
    "            underway[step] -= 1\n",
    "    n_steps += 1\n",
    "\"\".join(done), n_steps"
   ]
  },
  {
   "cell_type": "markdown",
   "metadata": {},
   "source": [
    "Let's interact with this manually."
   ]
  },
  {
   "cell_type": "code",
   "execution_count": 78,
   "metadata": {},
   "outputs": [],
   "source": [
    "prerequisites, all_steps = prepare_sample_input()\n",
    "done = []\n",
    "underway = {}\n",
    "idle_workers = 2\n",
    "n_steps = 0"
   ]
  },
  {
   "cell_type": "code",
   "execution_count": 79,
   "metadata": {},
   "outputs": [
    {
     "data": {
      "application/vnd.jupyter.widget-view+json": {
       "model_id": "4ee6a6a8a6d546d9a4fc951b1f7ff19a",
       "version_major": 2,
       "version_minor": 0
      },
      "text/plain": [
       "interactive(children=(Dropdown(description='n_turns', options=(1, 10), value=1), Button(description='Run Inter…"
      ]
     },
     "metadata": {},
     "output_type": "display_data"
    }
   ],
   "source": [
    "@interact_manual\n",
    "def step(n_turns=[1, 10]):\n",
    "    global prerequisites, idle_workers, n_steps\n",
    "    for _ in range(n_turns):\n",
    "        print('possible candidates before turn\\n', sorted([c for c in possible(prerequisites) if not c in done if not c in underway]))\n",
    "        # set worker to work if possible\n",
    "        while idle_workers > 0:\n",
    "            candidates = sorted([c for c in possible(prerequisites) if not c in done if not c in underway])\n",
    "            if len(candidates) == 0:\n",
    "                break\n",
    "            chosen = candidates[0]\n",
    "            underway[chosen] = step_duration(chosen, offset=0) - 1\n",
    "            idle_workers -= 1\n",
    "        print('underway\\n', underway)\n",
    "        print(\"idle workers\\n\", idle_workers)\n",
    "        # update tasks that are running\n",
    "        for step in list(underway.keys()):\n",
    "            remaining = underway[step] \n",
    "            if remaining == 0:\n",
    "                prerequisites = update(prerequisites, step)\n",
    "                del prerequisites[step]\n",
    "                del underway[step]\n",
    "                idle_workers += 1\n",
    "                done.append(step)\n",
    "            else:\n",
    "                underway[step] -= 1\n",
    "        n_steps += 1\n",
    "        print('done\\n', done)\n",
    "        print(\"idle_workers\\n\", idle_workers)\n",
    "        print('n_steps', n_steps)"
   ]
  },
  {
   "cell_type": "markdown",
   "metadata": {},
   "source": [
    "##  Part 2: real input"
   ]
  },
  {
   "cell_type": "code",
   "execution_count": 81,
   "metadata": {},
   "outputs": [],
   "source": [
    "def prepare_full_input():\n",
    "    parsed_input = [(line[5], line[36]) for line in open('input07').readlines()]\n",
    "    unique = set([item[0] for item in parsed_input])\n",
    "    unique.update(set([item[1] for item in parsed_input]))\n",
    "    prerequisites = {node: list() for node in unique}\n",
    "    for before, after in parsed_input:\n",
    "        prerequisites[after] += [before]\n",
    "    all_steps = list(prerequisites.keys())\n",
    "    return prerequisites, all_steps"
   ]
  },
  {
   "cell_type": "code",
   "execution_count": 83,
   "metadata": {},
   "outputs": [
    {
     "data": {
      "text/plain": [
       "('BGJQUYCNOILZFMETAKDSPVXRHW', 1017)"
      ]
     },
     "execution_count": 83,
     "metadata": {},
     "output_type": "execute_result"
    }
   ],
   "source": [
    "prerequisites, all_steps = prepare_full_input()\n",
    "done = []\n",
    "underway = {}\n",
    "idle_workers = 5\n",
    "n_steps = 0\n",
    "\n",
    "while len(done) < len(all_steps):\n",
    "    # set worker to work if possible\n",
    "    while idle_workers > 0:\n",
    "        candidates = sorted([c for c in possible(prerequisites) if not c in done if not c in underway])\n",
    "        if len(candidates) == 0:\n",
    "            break\n",
    "        chosen = candidates[0]\n",
    "        underway[chosen] = step_duration(chosen, offset=60) - 1\n",
    "        idle_workers -= 1\n",
    "\n",
    "    # update tasks that are running\n",
    "    for step in list(underway.keys()):\n",
    "        remaining = underway[step] \n",
    "        if remaining == 0:\n",
    "            prerequisites = update(prerequisites, step)\n",
    "            del prerequisites[step]\n",
    "            del underway[step]\n",
    "            idle_workers += 1\n",
    "            done.append(step)\n",
    "        else:\n",
    "            underway[step] -= 1\n",
    "    n_steps += 1\n",
    "\"\".join(done), n_steps"
   ]
  },
  {
   "cell_type": "code",
   "execution_count": null,
   "metadata": {},
   "outputs": [],
   "source": []
  }
 ],
 "metadata": {
  "kernelspec": {
   "display_name": "Python 3",
   "language": "python",
   "name": "python3"
  },
  "language_info": {
   "codemirror_mode": {
    "name": "ipython",
    "version": 3
   },
   "file_extension": ".py",
   "mimetype": "text/x-python",
   "name": "python",
   "nbconvert_exporter": "python",
   "pygments_lexer": "ipython3",
   "version": "3.6.4"
  },
  "toc": {
   "base_numbering": 1,
   "nav_menu": {
    "height": "119px",
    "width": "253px"
   },
   "number_sections": true,
   "sideBar": true,
   "skip_h1_title": false,
   "title_cell": "Table of Contents",
   "title_sidebar": "Contents",
   "toc_cell": false,
   "toc_position": {},
   "toc_section_display": "block",
   "toc_window_display": false
  }
 },
 "nbformat": 4,
 "nbformat_minor": 2
}
