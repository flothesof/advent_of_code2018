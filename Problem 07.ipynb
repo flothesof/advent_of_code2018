{
 "cells": [
  {
   "cell_type": "markdown",
   "metadata": {},
   "source": [
    "# Part 1 "
   ]
  },
  {
   "cell_type": "markdown",
   "metadata": {},
   "source": [
    "## Part 1: sample"
   ]
  },
  {
   "cell_type": "markdown",
   "metadata": {},
   "source": [
    "Let's start with the sample problem."
   ]
  },
  {
   "cell_type": "code",
   "execution_count": 158,
   "metadata": {},
   "outputs": [],
   "source": [
    "sample = \"\"\"Step C must be finished before step A can begin.\n",
    "Step C must be finished before step F can begin.\n",
    "Step A must be finished before step B can begin.\n",
    "Step A must be finished before step D can begin.\n",
    "Step B must be finished before step E can begin.\n",
    "Step D must be finished before step E can begin.\n",
    "Step F must be finished before step E can begin.\"\"\""
   ]
  },
  {
   "cell_type": "code",
   "execution_count": 159,
   "metadata": {},
   "outputs": [],
   "source": [
    "parsed_input = [(line[5], line[36]) for line in sample.split('\\n')]\n",
    "unique = set([item[0] for item in parsed_input])\n",
    "unique.update(set([item[1] for item in parsed_input]))\n",
    "prerequisites = {node: list() for node in unique}\n",
    "for before, after in parsed_input:\n",
    "    prerequisites[after] += [before]"
   ]
  },
  {
   "cell_type": "code",
   "execution_count": 160,
   "metadata": {},
   "outputs": [],
   "source": [
    "def possible(prerequisites):\n",
    "    candidates = []\n",
    "    for key in prerequisites:\n",
    "        if len(prerequisites[key]) == 0:\n",
    "            candidates.append(key)\n",
    "    return candidates"
   ]
  },
  {
   "cell_type": "code",
   "execution_count": 161,
   "metadata": {},
   "outputs": [],
   "source": [
    "def update(prerequisites, chosen):\n",
    "    updated = {}\n",
    "    for key in prerequisites:\n",
    "        updated[key] = [item for item in prerequisites[key] if item != chosen]\n",
    "    return updated"
   ]
  },
  {
   "cell_type": "code",
   "execution_count": 162,
   "metadata": {},
   "outputs": [
    {
     "data": {
      "text/plain": [
       "'CABDFE'"
      ]
     },
     "execution_count": 162,
     "metadata": {},
     "output_type": "execute_result"
    }
   ],
   "source": [
    "seq = ''\n",
    "while len(prerequisites) > 0:\n",
    "    candidates = sorted(possible(prerequisites))\n",
    "    if len(candidates) == 0:\n",
    "        break\n",
    "    chosen = candidates[0]\n",
    "    prerequisites = update(prerequisites, chosen)\n",
    "    del prerequisites[chosen]\n",
    "    seq += chosen\n",
    "seq"
   ]
  },
  {
   "cell_type": "markdown",
   "metadata": {},
   "source": [
    "## Part 1: real input "
   ]
  },
  {
   "cell_type": "code",
   "execution_count": 164,
   "metadata": {},
   "outputs": [],
   "source": [
    "parsed_input = [(line[5], line[36]) for line in open('input07').readlines()]\n",
    "\n",
    "unique = set([item[0] for item in parsed_input])\n",
    "unique.update(set([item[1] for item in parsed_input]))\n",
    "prerequisites = {node: list() for node in unique}\n",
    "for before, after in parsed_input:\n",
    "    prerequisites[after] += [before]"
   ]
  },
  {
   "cell_type": "code",
   "execution_count": 166,
   "metadata": {},
   "outputs": [
    {
     "data": {
      "text/plain": [
       "'BGJCNLQUYIFMOEZTADKSPVXRHW'"
      ]
     },
     "execution_count": 166,
     "metadata": {},
     "output_type": "execute_result"
    }
   ],
   "source": [
    "seq = ''\n",
    "while len(prerequisites) > 0:\n",
    "    candidates = sorted(possible(prerequisites))\n",
    "    if len(candidates) == 0:\n",
    "        break\n",
    "    chosen = candidates[0]\n",
    "    prerequisites = update(prerequisites, chosen)\n",
    "    del prerequisites[chosen]\n",
    "    seq += chosen\n",
    "seq"
   ]
  },
  {
   "cell_type": "markdown",
   "metadata": {},
   "source": [
    "# Part 2 "
   ]
  },
  {
   "cell_type": "markdown",
   "metadata": {},
   "source": [
    "## Part 2: sample "
   ]
  },
  {
   "cell_type": "code",
   "execution_count": 174,
   "metadata": {},
   "outputs": [],
   "source": [
    "parsed_input = [(line[5], line[36]) for line in sample.split('\\n')]\n",
    "unique = set([item[0] for item in parsed_input])\n",
    "unique.update(set([item[1] for item in parsed_input]))\n",
    "prerequisites = {node: list() for node in unique}\n",
    "for before, after in parsed_input:\n",
    "    prerequisites[after] += [before]"
   ]
  },
  {
   "cell_type": "code",
   "execution_count": 175,
   "metadata": {},
   "outputs": [],
   "source": [
    "all_steps = list(prerequisites.keys())"
   ]
  },
  {
   "cell_type": "code",
   "execution_count": 176,
   "metadata": {},
   "outputs": [],
   "source": [
    "def step_duration(step, offset=60):\n",
    "    return dict(zip('ABCDEFGHIJKLMNOPQRSTUVWXYZ', range(offset+1, offset+27)))[step]"
   ]
  },
  {
   "cell_type": "code",
   "execution_count": 177,
   "metadata": {},
   "outputs": [
    {
     "data": {
      "text/plain": [
       "'CAFBDE'"
      ]
     },
     "execution_count": 177,
     "metadata": {},
     "output_type": "execute_result"
    }
   ],
   "source": [
    "done = []\n",
    "underway = {}\n",
    "idle_workers = 2\n",
    "\n",
    "while len(done) < len(all_steps):\n",
    "    # set worker to work if possible\n",
    "    while idle_workers > 0:\n",
    "        candidates = sorted(possible(prerequisites))\n",
    "        candidates = [c for c in candidates if not c in done if not c in underway]\n",
    "        if len(candidates) == 0:\n",
    "            break\n",
    "        chosen = candidates[0]\n",
    "        underway[chosen] = step_duration(chosen, offset=60)\n",
    "        idle_workers -= 1\n",
    "\n",
    "    # update tasks that are running\n",
    "    for step in list(underway.keys()):\n",
    "        remaining = underway[step] \n",
    "        if remaining == 0:\n",
    "            prerequisites = update(prerequisites, step)\n",
    "            del prerequisites[step]\n",
    "            del underway[step]\n",
    "            idle_workers += 1\n",
    "            done.append(step)\n",
    "        else:\n",
    "            underway[step] -= 1\n",
    "\"\".join(done)"
   ]
  },
  {
   "cell_type": "markdown",
   "metadata": {},
   "source": [
    "##  Part 2: real input"
   ]
  },
  {
   "cell_type": "code",
   "execution_count": 164,
   "metadata": {},
   "outputs": [],
   "source": [
    "parsed_input = [(line[5], line[36]) for line in open('input07').readlines()]\n",
    "\n",
    "unique = set([item[0] for item in parsed_input])\n",
    "unique.update(set([item[1] for item in parsed_input]))\n",
    "prerequisites = {node: list() for node in unique}\n",
    "for before, after in parsed_input:\n",
    "    prerequisites[after] += [before]"
   ]
  }
 ],
 "metadata": {
  "kernelspec": {
   "display_name": "Python 3",
   "language": "python",
   "name": "python3"
  },
  "language_info": {
   "codemirror_mode": {
    "name": "ipython",
    "version": 3
   },
   "file_extension": ".py",
   "mimetype": "text/x-python",
   "name": "python",
   "nbconvert_exporter": "python",
   "pygments_lexer": "ipython3",
   "version": "3.6.1"
  },
  "toc": {
   "colors": {
    "hover_highlight": "#DAA520",
    "navigate_num": "#000000",
    "navigate_text": "#333333",
    "running_highlight": "#FF0000",
    "selected_highlight": "#FFD700",
    "sidebar_border": "#EEEEEE",
    "wrapper_background": "#FFFFFF"
   },
   "moveMenuLeft": true,
   "nav_menu": {
    "height": "119px",
    "width": "253px"
   },
   "navigate_menu": true,
   "number_sections": true,
   "sideBar": true,
   "threshold": 4,
   "toc_cell": false,
   "toc_section_display": "block",
   "toc_window_display": false,
   "widenNotebook": false
  }
 },
 "nbformat": 4,
 "nbformat_minor": 2
}
