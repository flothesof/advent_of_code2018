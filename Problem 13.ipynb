{
 "cells": [
  {
   "cell_type": "markdown",
   "metadata": {},
   "source": [
    "# Sample "
   ]
  },
  {
   "cell_type": "code",
   "execution_count": 1,
   "metadata": {},
   "outputs": [],
   "source": [
    "import numpy as np"
   ]
  },
  {
   "cell_type": "code",
   "execution_count": 2,
   "metadata": {},
   "outputs": [],
   "source": [
    "from collections import namedtuple"
   ]
  },
  {
   "cell_type": "code",
   "execution_count": 82,
   "metadata": {},
   "outputs": [],
   "source": [
    "class Cart:\n",
    "    def __init__(self, r, c, direction, gps):\n",
    "        self.r = r\n",
    "        self.c = c\n",
    "        self.direction = direction\n",
    "        self.gps = gps\n",
    "        \n",
    "    def __repr__(self):\n",
    "        return \"Cart(r: {}, c: {}, direction: {}, gps: {})\".format(self.r, self.c, self.direction, self.gps)"
   ]
  },
  {
   "cell_type": "code",
   "execution_count": 83,
   "metadata": {},
   "outputs": [],
   "source": [
    "def GPS():\n",
    "    dirs = ['left', 'straight', 'right']\n",
    "    i = 0\n",
    "    while True:\n",
    "        yield dirs[i]\n",
    "        i = (i + 1) % 3"
   ]
  },
  {
   "cell_type": "code",
   "execution_count": 84,
   "metadata": {},
   "outputs": [],
   "source": [
    "def load_grid(fname):\n",
    "    lines = [line[:-1] for line in open(fname).readlines()]\n",
    "    r, c = len(lines), len(lines[0])\n",
    "    carts = []\n",
    "    grid = np.zeros((r, c), dtype=np.str)\n",
    "    for r, line in enumerate(lines):\n",
    "        for c, val in enumerate(line):\n",
    "            if val != ' ':\n",
    "                if val in '<>^v':\n",
    "                    carts.append(Cart(r, c, val, GPS()))\n",
    "                    grid[r, c] = 1\n",
    "                elif val in '+/\\\\':\n",
    "                    grid[r, c] = val\n",
    "                else:\n",
    "                    grid[r, c] = 1\n",
    "    return grid, carts"
   ]
  },
  {
   "cell_type": "code",
   "execution_count": 207,
   "metadata": {},
   "outputs": [],
   "source": [
    "unit_moves = {'v': (1, 0),\n",
    "              '^': (-1, 0),\n",
    "              '>': (0, 1),\n",
    "              '<': (0, -1)}\n",
    "\n",
    "left_turn = {'v': '>',\n",
    "              '^': '<',\n",
    "              '>': '^',\n",
    "              '<': 'v'}\n",
    "\n",
    "right_turn = {'v': '<',\n",
    "              '^': '>',\n",
    "              '>': 'v',\n",
    "              '<': '^'}\n",
    "\n",
    "slash_top_right = {'v': '<',\n",
    "              '^': '>',\n",
    "              '>': '^',\n",
    "              '<': 'v'}\n",
    "\n",
    "slash_bottom_right = {'v': '>',\n",
    "              '^': '<',\n",
    "              '>': 'v',\n",
    "              '<': '^'}\n",
    "\n",
    "def step(carts, grid):\n",
    "    sorted_carts = sorted(carts, key=lambda cart: (cart.r, cart.c))\n",
    "    for cart in sorted_carts:\n",
    "        next_move = unit_moves[cart.direction]\n",
    "        rr, cc = cart.r + next_move[0], cart.c + next_move[1]\n",
    "        cart.r, cart.c = rr, cc\n",
    "        if (rr, cc) in set((cart.r, cart.c) for cart in carts):\n",
    "            print('crash occured')\n",
    "            cart.r, cart.c = rr, cc\n",
    "            return True\n",
    "        if grid[rr, cc] == '+':\n",
    "            rotation = next(cart.gps)\n",
    "            if rotation == 'left':\n",
    "                cart.direction = left_turn[cart.direction]\n",
    "            elif rotation == 'right':\n",
    "                cart.direction = right_turn[cart.direction]\n",
    "        elif grid[rr, cc] == '/':\n",
    "            cart.direction = slash_top_right[cart.direction]\n",
    "        elif grid[rr, cc] == '\\\\':\n",
    "            cart.direction = slash_bottom_right[cart.direction]\n",
    "        \n",
    "    return False"
   ]
  },
  {
   "cell_type": "code",
   "execution_count": 208,
   "metadata": {},
   "outputs": [],
   "source": [
    "def same_coords(carts):\n",
    "    for start in range(len(carts)):\n",
    "        for second in range(start, len(carts)):\n",
    "            if (carts[start].r, carts[start].c) == (carts[second].r, carts[second].c):\n",
    "                return carts[start].c, carts[start].r"
   ]
  },
  {
   "cell_type": "code",
   "execution_count": 209,
   "metadata": {},
   "outputs": [
    {
     "name": "stdout",
     "output_type": "stream",
     "text": [
      "crash occured\n"
     ]
    },
    {
     "data": {
      "text/plain": [
       "(3, 0)"
      ]
     },
     "execution_count": 209,
     "metadata": {},
     "output_type": "execute_result"
    }
   ],
   "source": [
    "grid, carts = load_grid('input13_sample.txt')\n",
    "\n",
    "turn = 0\n",
    "while True:\n",
    "    crashed = step(carts, grid)\n",
    "    turn += 1\n",
    "    if crashed:\n",
    "        break\n",
    "same_coords(carts)"
   ]
  },
  {
   "cell_type": "markdown",
   "metadata": {},
   "source": [
    "# My Input "
   ]
  },
  {
   "cell_type": "code",
   "execution_count": 210,
   "metadata": {},
   "outputs": [],
   "source": [
    "grid, carts = load_grid('input13')"
   ]
  },
  {
   "cell_type": "code",
   "execution_count": 211,
   "metadata": {},
   "outputs": [
    {
     "data": {
      "text/plain": [
       "(150, 150)"
      ]
     },
     "execution_count": 211,
     "metadata": {},
     "output_type": "execute_result"
    }
   ],
   "source": [
    "grid.shape"
   ]
  },
  {
   "cell_type": "code",
   "execution_count": 212,
   "metadata": {},
   "outputs": [
    {
     "data": {
      "text/plain": [
       "[Cart(r: 19, c: 20, direction: ^, gps: <generator object GPS at 0x000000000643D4C0>),\n",
       " Cart(r: 20, c: 141, direction: ^, gps: <generator object GPS at 0x000000000643D048>),\n",
       " Cart(r: 30, c: 10, direction: v, gps: <generator object GPS at 0x000000000643D468>),\n",
       " Cart(r: 37, c: 137, direction: <, gps: <generator object GPS at 0x000000000643DA98>),\n",
       " Cart(r: 61, c: 144, direction: ^, gps: <generator object GPS at 0x000000000643D518>),\n",
       " Cart(r: 62, c: 87, direction: >, gps: <generator object GPS at 0x000000000643D5C8>),\n",
       " Cart(r: 64, c: 17, direction: ^, gps: <generator object GPS at 0x000000000643D678>),\n",
       " Cart(r: 68, c: 11, direction: v, gps: <generator object GPS at 0x000000000643D780>),\n",
       " Cart(r: 74, c: 4, direction: v, gps: <generator object GPS at 0x000000000643D0A0>),\n",
       " Cart(r: 74, c: 82, direction: >, gps: <generator object GPS at 0x000000000643D7D8>),\n",
       " Cart(r: 88, c: 91, direction: v, gps: <generator object GPS at 0x000000000618FE60>),\n",
       " Cart(r: 100, c: 93, direction: <, gps: <generator object GPS at 0x000000000643D728>),\n",
       " Cart(r: 106, c: 65, direction: <, gps: <generator object GPS at 0x000000000643D830>),\n",
       " Cart(r: 112, c: 52, direction: ^, gps: <generator object GPS at 0x000000000643DBA0>),\n",
       " Cart(r: 114, c: 145, direction: v, gps: <generator object GPS at 0x000000000643DBF8>),\n",
       " Cart(r: 128, c: 108, direction: <, gps: <generator object GPS at 0x000000000643DC50>),\n",
       " Cart(r: 131, c: 111, direction: <, gps: <generator object GPS at 0x000000000643DCA8>)]"
      ]
     },
     "execution_count": 212,
     "metadata": {},
     "output_type": "execute_result"
    }
   ],
   "source": [
    "sorted(carts, key=lambda cart: (cart.r, cart.c))"
   ]
  },
  {
   "cell_type": "code",
   "execution_count": 213,
   "metadata": {},
   "outputs": [
    {
     "name": "stdout",
     "output_type": "stream",
     "text": [
      "crash occured\n"
     ]
    },
    {
     "data": {
      "text/plain": [
       "(20, 18)"
      ]
     },
     "execution_count": 213,
     "metadata": {},
     "output_type": "execute_result"
    }
   ],
   "source": [
    "turn = 0\n",
    "while True:\n",
    "    crashed = step(carts, grid)\n",
    "    turn += 1\n",
    "    if crashed:\n",
    "        break\n",
    "same_coords(carts)"
   ]
  },
  {
   "cell_type": "code",
   "execution_count": 214,
   "metadata": {},
   "outputs": [
    {
     "data": {
      "text/plain": [
       "[Cart(r: 18, c: 20, direction: ^, gps: <generator object GPS at 0x000000000643D4C0>),\n",
       " Cart(r: 20, c: 141, direction: ^, gps: <generator object GPS at 0x000000000643D048>),\n",
       " Cart(r: 30, c: 10, direction: v, gps: <generator object GPS at 0x000000000643D468>),\n",
       " Cart(r: 37, c: 137, direction: <, gps: <generator object GPS at 0x000000000643DA98>),\n",
       " Cart(r: 61, c: 144, direction: ^, gps: <generator object GPS at 0x000000000643D518>),\n",
       " Cart(r: 62, c: 87, direction: >, gps: <generator object GPS at 0x000000000643D5C8>),\n",
       " Cart(r: 64, c: 17, direction: ^, gps: <generator object GPS at 0x000000000643D678>),\n",
       " Cart(r: 68, c: 11, direction: v, gps: <generator object GPS at 0x000000000643D780>),\n",
       " Cart(r: 74, c: 4, direction: v, gps: <generator object GPS at 0x000000000643D0A0>),\n",
       " Cart(r: 74, c: 82, direction: >, gps: <generator object GPS at 0x000000000643D7D8>),\n",
       " Cart(r: 88, c: 91, direction: v, gps: <generator object GPS at 0x000000000618FE60>),\n",
       " Cart(r: 100, c: 93, direction: <, gps: <generator object GPS at 0x000000000643D728>),\n",
       " Cart(r: 106, c: 65, direction: <, gps: <generator object GPS at 0x000000000643D830>),\n",
       " Cart(r: 112, c: 52, direction: ^, gps: <generator object GPS at 0x000000000643DBA0>),\n",
       " Cart(r: 114, c: 145, direction: v, gps: <generator object GPS at 0x000000000643DBF8>),\n",
       " Cart(r: 128, c: 108, direction: <, gps: <generator object GPS at 0x000000000643DC50>),\n",
       " Cart(r: 131, c: 111, direction: <, gps: <generator object GPS at 0x000000000643DCA8>)]"
      ]
     },
     "execution_count": 214,
     "metadata": {},
     "output_type": "execute_result"
    }
   ],
   "source": [
    "sorted(carts, key=lambda cart: (cart.r, cart.c))"
   ]
  },
  {
   "cell_type": "code",
   "execution_count": null,
   "metadata": {},
   "outputs": [],
   "source": []
  }
 ],
 "metadata": {
  "kernelspec": {
   "display_name": "Python 3",
   "language": "python",
   "name": "python3"
  },
  "language_info": {
   "codemirror_mode": {
    "name": "ipython",
    "version": 3
   },
   "file_extension": ".py",
   "mimetype": "text/x-python",
   "name": "python",
   "nbconvert_exporter": "python",
   "pygments_lexer": "ipython3",
   "version": "3.6.4"
  },
  "toc": {
   "base_numbering": 1,
   "nav_menu": {
    "height": "30px",
    "width": "252px"
   },
   "number_sections": true,
   "sideBar": true,
   "skip_h1_title": false,
   "title_cell": "Table of Contents",
   "title_sidebar": "Contents",
   "toc_cell": false,
   "toc_position": {},
   "toc_section_display": "block",
   "toc_window_display": false
  }
 },
 "nbformat": 4,
 "nbformat_minor": 2
}
