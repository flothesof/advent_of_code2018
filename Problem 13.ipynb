{
 "cells": [
  {
   "cell_type": "markdown",
   "metadata": {},
   "source": [
    "# Sample "
   ]
  },
  {
   "cell_type": "code",
   "execution_count": null,
   "metadata": {},
   "outputs": [],
   "source": [
    "import numpy as np"
   ]
  },
  {
   "cell_type": "code",
   "execution_count": null,
   "metadata": {},
   "outputs": [],
   "source": [
    "from collections import namedtuple"
   ]
  },
  {
   "cell_type": "code",
   "execution_count": null,
   "metadata": {},
   "outputs": [],
   "source": [
    "Cart = namedtuple('Cart', 'r, c, direction, gps')"
   ]
  },
  {
   "cell_type": "code",
   "execution_count": null,
   "metadata": {},
   "outputs": [],
   "source": [
    "def GPS():\n",
    "    dirs = ['left', 'straight', 'right']\n",
    "    i = 0\n",
    "    while True:\n",
    "        yield dirs[i]\n",
    "        i = (i + 1) % 3"
   ]
  },
  {
   "cell_type": "code",
   "execution_count": null,
   "metadata": {},
   "outputs": [],
   "source": [
    "def load_grid(fname):\n",
    "    lines = [line[:-1] for line in open(fname).readlines()]\n",
    "    r, c = len(lines), len(lines[0])\n",
    "    carts = []\n",
    "    grid = np.zeros((r, c), dtype=np.str)\n",
    "    for r, line in enumerate(lines):\n",
    "        for c, val in enumerate(line):\n",
    "            if val != ' ':\n",
    "                if val in '<>^v':\n",
    "                    carts.append(Cart(r, c, val, GPS()))\n",
    "                    grid[r, c] = 1\n",
    "                elif val in '+/\\\\':\n",
    "                    grid[r, c] = val\n",
    "                else:\n",
    "                    grid[r, c] = 1\n",
    "    return grid, carts"
   ]
  },
  {
   "cell_type": "code",
   "execution_count": null,
   "metadata": {},
   "outputs": [],
   "source": [
    "grid, carts = load_grid('input13_sample.txt')"
   ]
  },
  {
   "cell_type": "code",
   "execution_count": null,
   "metadata": {},
   "outputs": [],
   "source": [
    "carts"
   ]
  },
  {
   "cell_type": "code",
   "execution_count": null,
   "metadata": {},
   "outputs": [],
   "source": [
    "unit_moves = {'v': (1, 0),\n",
    "              '^': (-1, 0),\n",
    "              '>': (0, 1),\n",
    "              '<': (0, -1)}\n",
    "\n",
    "left_turn = {'v': '>',\n",
    "              '^': '<',\n",
    "              '>': '^',\n",
    "              '<': 'v'}\n",
    "\n",
    "right_turn = {'v': '<',\n",
    "              '^': '>',\n",
    "              '>': 'v',\n",
    "              '<': '^'}\n",
    "\n",
    "slash_top_right = {'v': '<',\n",
    "              '^': '>',\n",
    "              '>': '^',\n",
    "              '<': 'v'}\n",
    "\n",
    "slash_bottom_right = {'v': '>',\n",
    "              '^': '<',\n",
    "              '>': 'v',\n",
    "              '<': '^'}\n",
    "\n",
    "def step(carts, grid):\n",
    "    for cart in carts:\n",
    "        next_move = unit_moves[cart.direction]\n",
    "        rr, cc = cart.r + next_move[0], cart.c + next_move[1]\n",
    "        if grid[rr, cc] == '+':\n",
    "            rotation = next(cart.gps)\n",
    "            if rotation == 'left':\n",
    "                cart.direction._replace(left_turn[cart.direction])\n",
    "            elif rotation == 'right':\n",
    "                cart.direction._replace(right_turn[cart.direction])\n",
    "        elif grid[rr, cc] == '/':\n",
    "            cart.direction._replace(slash_top_right[cart.direction])\n",
    "        elif grid[rr, cc] == '\\\\':\n",
    "            cart.direction._replace(slash_bottom_right[cart.direction])\n",
    "        "
   ]
  },
  {
   "cell_type": "code",
   "execution_count": null,
   "metadata": {},
   "outputs": [],
   "source": [
    "step(carts, grid)"
   ]
  },
  {
   "cell_type": "code",
   "execution_count": null,
   "metadata": {},
   "outputs": [],
   "source": [
    "carts"
   ]
  },
  {
   "cell_type": "code",
   "execution_count": null,
   "metadata": {},
   "outputs": [],
   "source": [
    "%debug"
   ]
  },
  {
   "cell_type": "code",
   "execution_count": null,
   "metadata": {},
   "outputs": [],
   "source": []
  }
 ],
 "metadata": {
  "kernelspec": {
   "display_name": "Python 3",
   "language": "python",
   "name": "python3"
  },
  "language_info": {
   "codemirror_mode": {
    "name": "ipython",
    "version": 3
   },
   "file_extension": ".py",
   "mimetype": "text/x-python",
   "name": "python",
   "nbconvert_exporter": "python",
   "pygments_lexer": "ipython3",
   "version": "3.6.1"
  },
  "toc": {
   "colors": {
    "hover_highlight": "#DAA520",
    "navigate_num": "#000000",
    "navigate_text": "#333333",
    "running_highlight": "#FF0000",
    "selected_highlight": "#FFD700",
    "sidebar_border": "#EEEEEE",
    "wrapper_background": "#FFFFFF"
   },
   "moveMenuLeft": true,
   "nav_menu": {
    "height": "30px",
    "width": "252px"
   },
   "navigate_menu": true,
   "number_sections": true,
   "sideBar": true,
   "threshold": 4,
   "toc_cell": false,
   "toc_section_display": "block",
   "toc_window_display": false,
   "widenNotebook": false
  }
 },
 "nbformat": 4,
 "nbformat_minor": 2
}
