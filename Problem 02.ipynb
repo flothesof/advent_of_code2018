{
 "cells": [
  {
   "cell_type": "code",
   "execution_count": 2,
   "metadata": {},
   "outputs": [],
   "source": [
    "lines = [line.strip() for line in open('input02.txt').readlines()]"
   ]
  },
  {
   "cell_type": "code",
   "execution_count": 3,
   "metadata": {},
   "outputs": [
    {
     "data": {
      "text/plain": [
       "['cvfueihajytpmrdkgsxfqplbxn',\n",
       " 'cbzueihajytnmrdkgtxfqplbwn',\n",
       " 'cvzucihajytomrdkgstfqplqwn',\n",
       " 'cvzueilajytomrdkgsxfqwnbwn',\n",
       " 'cvzueihajytomrdkgsgwqphbwn',\n",
       " 'wuzuerhajytomrdkgsxfqplbwn',\n",
       " 'cyzueifajybomrdkgsxfqplbwn',\n",
       " 'cvzueihajxtomrdkgpxfqplmwn',\n",
       " 'ivzfevhajytomrdkgsxfqplbwn',\n",
       " 'cvzueihajytomrdlgsxfqphbbn']"
      ]
     },
     "execution_count": 3,
     "metadata": {},
     "output_type": "execute_result"
    }
   ],
   "source": [
    "lines[:10]"
   ]
  },
  {
   "cell_type": "code",
   "execution_count": 20,
   "metadata": {},
   "outputs": [],
   "source": [
    "sample1 = ['abcdef', \n",
    "           'bababc',\n",
    "           'abbcde',\n",
    "           'abcccd',\n",
    "           'aabcdd',\n",
    "           'abcdee',\n",
    "           'ababab']"
   ]
  },
  {
   "cell_type": "code",
   "execution_count": 6,
   "metadata": {},
   "outputs": [],
   "source": [
    "line = lines[0]\n",
    "from collections import Counter"
   ]
  },
  {
   "cell_type": "code",
   "execution_count": 8,
   "metadata": {},
   "outputs": [],
   "source": [
    "c = Counter(line)"
   ]
  },
  {
   "cell_type": "code",
   "execution_count": 15,
   "metadata": {},
   "outputs": [
    {
     "name": "stdout",
     "output_type": "stream",
     "text": [
      "2 f\n",
      "2 p\n",
      "2 x\n"
     ]
    }
   ],
   "source": [
    "for letter in c:\n",
    "    if c[letter] == 2:\n",
    "        print(2, letter)\n",
    "    elif c[letter] == 3:\n",
    "        print(3, letter)"
   ]
  },
  {
   "cell_type": "code",
   "execution_count": 28,
   "metadata": {},
   "outputs": [
    {
     "data": {
      "text/plain": [
       "(246, 21, 5166)"
      ]
     },
     "execution_count": 28,
     "metadata": {},
     "output_type": "execute_result"
    }
   ],
   "source": [
    "count_of_twos = 0\n",
    "count_of_threes = 0\n",
    "for line in lines:\n",
    "    has_two = False\n",
    "    has_three = False\n",
    "    c = Counter(line)\n",
    "    for letter in c:\n",
    "        if c[letter] == 2:\n",
    "            has_two = True\n",
    "        elif c[letter] == 3:\n",
    "            has_three = True\n",
    "    if has_two:\n",
    "        count_of_twos += 1\n",
    "    if has_three:\n",
    "        count_of_threes += 1\n",
    "count_of_twos, count_of_threes, count_of_twos * count_of_threes"
   ]
  },
  {
   "cell_type": "markdown",
   "metadata": {},
   "source": [
    "## part 2"
   ]
  },
  {
   "cell_type": "code",
   "execution_count": 34,
   "metadata": {},
   "outputs": [],
   "source": [
    "sample2 = ['abcde',\n",
    "        'fghij',\n",
    "        'klmno',\n",
    "        'pqrst',\n",
    "        'fguij',\n",
    "        'axcye',\n",
    "        'wvxyz']"
   ]
  },
  {
   "cell_type": "code",
   "execution_count": 81,
   "metadata": {},
   "outputs": [],
   "source": [
    "def similarity(first, second):\n",
    "    \"\"\"Returns True if both strings differ by just one letter.\"\"\"\n",
    "    if len(first) != len(second):\n",
    "        return False\n",
    "    first_set = set(first)\n",
    "    second_set = set(second)\n",
    "    if len(first_set - second_set) == 1:\n",
    "        return len(first) - sum(1 for u, v in zip(first, second) if u == v) == 1\n",
    "    else: \n",
    "        return False"
   ]
  },
  {
   "cell_type": "code",
   "execution_count": 82,
   "metadata": {},
   "outputs": [
    {
     "data": {
      "text/plain": [
       "False"
      ]
     },
     "execution_count": 82,
     "metadata": {},
     "output_type": "execute_result"
    }
   ],
   "source": [
    "similarity('abcde', 'abcde')"
   ]
  },
  {
   "cell_type": "code",
   "execution_count": 83,
   "metadata": {},
   "outputs": [
    {
     "data": {
      "text/plain": [
       "True"
      ]
     },
     "execution_count": 83,
     "metadata": {},
     "output_type": "execute_result"
    }
   ],
   "source": [
    "similarity('abcde', 'abcae')"
   ]
  },
  {
   "cell_type": "code",
   "execution_count": 84,
   "metadata": {},
   "outputs": [
    {
     "data": {
      "text/plain": [
       "False"
      ]
     },
     "execution_count": 84,
     "metadata": {},
     "output_type": "execute_result"
    }
   ],
   "source": [
    "similarity('abcde', 'abcat')"
   ]
  },
  {
   "cell_type": "code",
   "execution_count": 94,
   "metadata": {},
   "outputs": [
    {
     "name": "stdout",
     "output_type": "stream",
     "text": [
      "cypueihajytordkgzxfqplbwn\n"
     ]
    }
   ],
   "source": [
    "data = lines\n",
    "for first in data:\n",
    "    for second in data:\n",
    "        if similarity(first, second):\n",
    "            print(\"\".join(list(u for u, v in zip(first, second) if u == v)))\n",
    "            break"
   ]
  }
 ],
 "metadata": {
  "kernelspec": {
   "display_name": "Python 3",
   "language": "python",
   "name": "python3"
  },
  "language_info": {
   "codemirror_mode": {
    "name": "ipython",
    "version": 3
   },
   "file_extension": ".py",
   "mimetype": "text/x-python",
   "name": "python",
   "nbconvert_exporter": "python",
   "pygments_lexer": "ipython3",
   "version": "3.6.1"
  },
  "toc": {
   "colors": {
    "hover_highlight": "#DAA520",
    "navigate_num": "#000000",
    "navigate_text": "#333333",
    "running_highlight": "#FF0000",
    "selected_highlight": "#FFD700",
    "sidebar_border": "#EEEEEE",
    "wrapper_background": "#FFFFFF"
   },
   "moveMenuLeft": true,
   "nav_menu": {
    "height": "31px",
    "width": "253px"
   },
   "navigate_menu": true,
   "number_sections": true,
   "sideBar": true,
   "threshold": 4,
   "toc_cell": false,
   "toc_section_display": "block",
   "toc_window_display": false,
   "widenNotebook": false
  }
 },
 "nbformat": 4,
 "nbformat_minor": 2
}
