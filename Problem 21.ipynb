{
 "cells": [
  {
   "cell_type": "markdown",
   "metadata": {},
   "source": [
    "Let's step through the program and understand what it does:"
   ]
  },
  {
   "cell_type": "code",
   "execution_count": 10,
   "metadata": {},
   "outputs": [],
   "source": [
    "from ipywidgets import interact_manual\n",
    "from IPython.display import HTML, display"
   ]
  },
  {
   "cell_type": "code",
   "execution_count": 11,
   "metadata": {},
   "outputs": [],
   "source": [
    "def load_input(fname):\n",
    "    lines = [line.strip() for line in open(fname).readlines()]\n",
    "    return lines"
   ]
  },
  {
   "cell_type": "code",
   "execution_count": 15,
   "metadata": {},
   "outputs": [],
   "source": [
    "helpstr = {'addr': '(add register) stores into register {C} the result of adding register {A} and register {B}.',\n",
    "          'addi': '(add immediate) stores into register {C} the result of adding register {A} and value {B}.',\n",
    "          'seti': '(set immediate) stores value {A} into register {C}. (Input B is ignored.)',\n",
    "          'mulr': '(multiply register) stores into register {C} the result of multiplying register {A} and register {B}.',\n",
    "          'eqrr': '(equal register/register) sets register {C} to 1 if register {A} is equal to register {B}.\\nOtherwise, register {C} is set to 0.',\n",
    "          'gtrr': '(greater-than register/register) sets register {C} to 1 if register {A} is greater than register {B}. Otherwise, register {C} is set to 0.',\n",
    "          'muli': '(multiply immediate) stores into register {C} the result of multiplying register {A} and value {B}.',\n",
    "          'setr': '(set register) copies the contents of register {A} into register {C}. (Input B is ignored.)',\n",
    "          'bani': '(bitwise AND immediate) stores into register {C} the result of the bitwise AND of register {A} and value {B}.'}\n",
    "\n",
    "def annotate(parsed_program, ip_value, registers):\n",
    "    \n",
    "    instr = parsed_program[ip_value]\n",
    "    instr_type, A, B, C = instr.split()\n",
    "    A, B, C = int(A), int(B), int(C)\n",
    "    \n",
    "    parsed_copy = parsed_program[:]\n",
    "    parsed_copy[ip_value] = \"<span style='background-color: #FFFF00'>\" + parsed_copy[ip_value] + \"</span>\"\n",
    "    listing = \"<div>\" + \"\".join([\"<p><i>{}: </i>\".format(ind) + item + \"</p>\" for ind, item in enumerate(parsed_copy)]) + \"</div>\"\n",
    "    \n",
    "    register_html = '<p>' + \", \".join(\"<i>r{}: </i>{}\".format(ind, item) for ind, item in enumerate(registers)) + '</p><p>' + helpstr[instr_type].format(A=A, B=B, C=C)\n",
    "    \n",
    "    style = \"\"\"<style>\n",
    "    p {\n",
    "   line-height:20%;\n",
    "}\n",
    "    .mycontainer {\n",
    "    width: 80%;\n",
    "    margin: auto;\n",
    "    font-family: monospace;\n",
    "    font-size: 12px;\n",
    "    \n",
    "}\n",
    ".myone {\n",
    "    width: 20%;\n",
    "    float: left;\n",
    "}\n",
    ".mytwo {\n",
    "    margin-left: 20%;\n",
    "    width: 80%;\n",
    "}\n",
    ".mytwo p {\n",
    "    line-height:100%;\n",
    "}\n",
    "    </style>\n",
    "    \"\"\"\n",
    "    container = \"\"\"<section class=\"mycontainer\">\n",
    "    <div class=\"myone\">{}</div>\n",
    "    <div class=\"mytwo\">{}</div>\n",
    "    </section>\"\"\".format(listing, register_html)\n",
    "    return HTML(style + container)"
   ]
  },
  {
   "cell_type": "code",
   "execution_count": 16,
   "metadata": {},
   "outputs": [
    {
     "data": {
      "application/vnd.jupyter.widget-view+json": {
       "model_id": "2885d52e4db84112a614cfb90503c03c",
       "version_major": 2,
       "version_minor": 0
      },
      "text/html": [
       "<p>Failed to display Jupyter Widget of type <code>interactive</code>.</p>\n",
       "<p>\n",
       "  If you're reading this message in the Jupyter Notebook or JupyterLab Notebook, it may mean\n",
       "  that the widgets JavaScript is still loading. If this message persists, it\n",
       "  likely means that the widgets JavaScript library is either not installed or\n",
       "  not enabled. See the <a href=\"https://ipywidgets.readthedocs.io/en/stable/user_install.html\">Jupyter\n",
       "  Widgets Documentation</a> for setup instructions.\n",
       "</p>\n",
       "<p>\n",
       "  If you're reading this message in another frontend (for example, a static\n",
       "  rendering on GitHub or <a href=\"https://nbviewer.jupyter.org/\">NBViewer</a>),\n",
       "  it may mean that your frontend doesn't currently support widgets.\n",
       "</p>\n"
      ],
      "text/plain": [
       "interactive(children=(Dropdown(description='n', options=(1, 10), value=1), Button(description='Run Interact', style=ButtonStyle()), Output()), _dom_classes=('widget-interact',))"
      ]
     },
     "metadata": {},
     "output_type": "display_data"
    }
   ],
   "source": [
    "program = load_input('input21')\n",
    "registers = [0, 0, 0, 0, 0, 0]\n",
    "program_len = len([line for line in program if not line.startswith('#')])\n",
    "parsed_program = [line for line in program if not line.startswith('#')]\n",
    "# bind instrructions point to a register\n",
    "instr = program[0]\n",
    "ip_register = int(instr.split('#ip ')[1])\n",
    "ip_value = registers[ip_register] \n",
    "count = 0\n",
    "\n",
    "@interact_manual\n",
    "def step(n=[1, 10]):\n",
    "    global ip_value, count, registers\n",
    "    for _ in range(n):\n",
    "        if ip_value >= program_len or ip_value < 0:\n",
    "            print('program finished')\n",
    "        display(annotate(parsed_program, ip_value, registers))\n",
    "        instr = parsed_program[ip_value]\n",
    "        instr_type, A, B, C = instr.split()\n",
    "        A, B, C = int(A), int(B), int(C)\n",
    "        if instr_type == 'seti':\n",
    "            registers[ip_register] = ip_value\n",
    "            registers[C] = A\n",
    "            ip_value = registers[ip_register]\n",
    "            ip_value += 1\n",
    "        elif instr_type == 'addi':\n",
    "            registers[ip_register] = ip_value\n",
    "            registers[C] = registers[A] + B\n",
    "            ip_value = registers[ip_register]\n",
    "            ip_value += 1\n",
    "        elif instr_type == 'setr':\n",
    "            registers[ip_register] = ip_value\n",
    "            registers[C] = registers[A]\n",
    "            ip_value = registers[ip_register]\n",
    "            ip_value += 1\n",
    "        elif instr_type == 'mulr':\n",
    "            registers[ip_register] = ip_value\n",
    "            registers[C] = registers[A] * registers[B]\n",
    "            ip_value = registers[ip_register]\n",
    "            ip_value += 1\n",
    "        elif instr_type == 'muli':\n",
    "            registers[ip_register] = ip_value\n",
    "            registers[C] = registers[A] * B\n",
    "            ip_value = registers[ip_register]\n",
    "            ip_value += 1\n",
    "        elif instr_type == 'addr':\n",
    "            registers[ip_register] = ip_value\n",
    "            registers[C] = registers[A] + registers[B]\n",
    "            ip_value = registers[ip_register]\n",
    "            ip_value += 1\n",
    "        elif instr_type == 'eqrr':\n",
    "            registers[ip_register] = ip_value\n",
    "            if registers[A] == registers[B]:\n",
    "                registers[C] = 1\n",
    "            else:\n",
    "                registers[C] = 0\n",
    "            ip_value = registers[ip_register]\n",
    "            ip_value += 1\n",
    "        elif instr_type == 'gtrr':\n",
    "            registers[ip_register] = ip_value\n",
    "            if registers[A] > registers[B]:\n",
    "                registers[C] = 1\n",
    "            else:\n",
    "                registers[C] = 0\n",
    "            ip_value = registers[ip_register]\n",
    "            ip_value += 1\n",
    "        count += 1\n",
    "    "
   ]
  },
  {
   "cell_type": "code",
   "execution_count": null,
   "metadata": {},
   "outputs": [],
   "source": []
  }
 ],
 "metadata": {
  "kernelspec": {
   "display_name": "Python 3",
   "language": "python",
   "name": "python3"
  },
  "language_info": {
   "codemirror_mode": {
    "name": "ipython",
    "version": 3
   },
   "file_extension": ".py",
   "mimetype": "text/x-python",
   "name": "python",
   "nbconvert_exporter": "python",
   "pygments_lexer": "ipython3",
   "version": "3.6.1"
  },
  "toc": {
   "colors": {
    "hover_highlight": "#DAA520",
    "navigate_num": "#000000",
    "navigate_text": "#333333",
    "running_highlight": "#FF0000",
    "selected_highlight": "#FFD700",
    "sidebar_border": "#EEEEEE",
    "wrapper_background": "#FFFFFF"
   },
   "moveMenuLeft": true,
   "nav_menu": {
    "height": "13px",
    "width": "253px"
   },
   "navigate_menu": true,
   "number_sections": true,
   "sideBar": true,
   "threshold": 4,
   "toc_cell": false,
   "toc_section_display": "block",
   "toc_window_display": false,
   "widenNotebook": false
  }
 },
 "nbformat": 4,
 "nbformat_minor": 2
}
