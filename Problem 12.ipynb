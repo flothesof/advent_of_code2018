{
 "cells": [
  {
   "cell_type": "markdown",
   "metadata": {},
   "source": [
    "# Sample problem "
   ]
  },
  {
   "cell_type": "code",
   "execution_count": 1,
   "metadata": {},
   "outputs": [],
   "source": [
    "sample = \"\"\"...## => #\n",
    "..#.. => #\n",
    ".#... => #\n",
    ".#.#. => #\n",
    ".#.## => #\n",
    ".##.. => #\n",
    ".#### => #\n",
    "#.#.# => #\n",
    "#.### => #\n",
    "##.#. => #\n",
    "##.## => #\n",
    "###.. => #\n",
    "###.# => #\n",
    "####. => #\"\"\""
   ]
  },
  {
   "cell_type": "code",
   "execution_count": 2,
   "metadata": {},
   "outputs": [],
   "source": [
    "rules = {}\n",
    "for line in sample.split('\\n'):\n",
    "    left, right = line.split(' => ')\n",
    "    rules[left] = right"
   ]
  },
  {
   "cell_type": "code",
   "execution_count": 3,
   "metadata": {},
   "outputs": [],
   "source": [
    "initial_state = '#..#.#..##......###...###'"
   ]
  },
  {
   "cell_type": "code",
   "execution_count": 4,
   "metadata": {},
   "outputs": [
    {
     "name": "stdout",
     "output_type": "stream",
     "text": [
      "..#..#.#..##......###...###..\n",
      "..#...#....#.....#..#..#..#..\n",
      "..##..##...##....#..#..#..##..\n",
      "..#.#...#..#.#....#..#..#...#..\n",
      "...#.#..#...#.#...#..#..##..##..\n",
      "....#...##...#.#..#..#...#...#..\n",
      "....##.#.#....#...#..##..##..##..\n",
      "...#..###.#...##..#...#...#...#..\n",
      "...#....##.#.#.#..##..##..##..##..\n",
      "...##..#..#####....#...#...#...#..\n",
      "..#.#..#...#.##....##..##..##..##..\n",
      "...#...##...#.#...#.#...#...#...#..\n",
      "...##.#.#....#.#...#.#..##..##..##..\n",
      "..#..###.#....#.#...#....#...#...#..\n",
      "..#....##.#....#.#..##...##..##..##..\n",
      "..##..#..#.#....#....#..#.#...#...#..\n",
      "..#.#..#...#.#...##...#...#.#..##..##..\n",
      "...#...##...#.#.#.#...##...#....#...#..\n",
      "...##.#.#....#####.#.#.#...##...##..##..\n",
      "..#..###.#..#.#.#######.#.#.#..#.#...#..\n",
      "..#....##....#####...#######....#.#..##..\n",
      "325\n"
     ]
    }
   ],
   "source": [
    "state = '..' + initial_state[:] + '..'\n",
    "left_most = -2\n",
    "print(state)\n",
    "for turn in range(20):\n",
    "    next_state = '..'\n",
    "    for i in range(0, len(state) - 4):\n",
    "        window = state[i:i+5]\n",
    "        if window in rules:\n",
    "            next_state += rules[window]\n",
    "        else:\n",
    "            next_state += '.'\n",
    "    next_state += '..'\n",
    "    # left boundary:\n",
    "    if ('.' + state[:4]) in rules:\n",
    "        next_state = '..' + rules['.' + state[:4]] + next_state[2:]\n",
    "        left_most -= 1\n",
    "    if (state[-4:] + '.') in rules:\n",
    "        next_state = next_state[:-2] +  rules[state[-4:] + '.'] + '..'\n",
    "    \n",
    "    print(next_state)\n",
    "    state = next_state\n",
    "print(sum([i for i, pot in zip(range(left_most, left_most + len(state)), state) if pot == '#']))"
   ]
  },
  {
   "cell_type": "markdown",
   "metadata": {},
   "source": [
    "# Part 1 "
   ]
  },
  {
   "cell_type": "code",
   "execution_count": 5,
   "metadata": {},
   "outputs": [
    {
     "data": {
      "text/plain": [
       "'#..#####.#.#.##....####..##.#.#.##.##.#####..####.#.##.....#..#.#.#...###..#..###.##.#..##.#.#.....#'"
      ]
     },
     "execution_count": 5,
     "metadata": {},
     "output_type": "execute_result"
    }
   ],
   "source": [
    "lines = open('input12').readlines()\n",
    "initial_state = lines[0].split('initial state: ')[1].strip()\n",
    "initial_state"
   ]
  },
  {
   "cell_type": "code",
   "execution_count": 6,
   "metadata": {},
   "outputs": [],
   "source": [
    "rules = {}\n",
    "for line in lines[2:]:\n",
    "    left, right = line.split(' => ')\n",
    "    rules[left] = right.strip()"
   ]
  },
  {
   "cell_type": "code",
   "execution_count": 7,
   "metadata": {},
   "outputs": [],
   "source": [
    "%load_ext pythran.magic"
   ]
  },
  {
   "cell_type": "code",
   "execution_count": 8,
   "metadata": {},
   "outputs": [
    {
     "name": "stdout",
     "output_type": "stream",
     "text": [
      "/var/folders/r9/s1k2nd110xzfxyfym7jmyb8r0000gn/T//cceQdRUg.s:6583:11: warning: section \"__textcoal_nt\" is deprecated\n",
      "        .section __TEXT,__textcoal_nt,coalesced,pure_instructions\n",
      "                 ^      ~~~~~~~~~~~~~\n",
      "/var/folders/r9/s1k2nd110xzfxyfym7jmyb8r0000gn/T//cceQdRUg.s:6583:11: note: change section name to \"__text\"\n",
      "        .section __TEXT,__textcoal_nt,coalesced,pure_instructions\n",
      "                 ^      ~~~~~~~~~~~~~\n",
      "/var/folders/r9/s1k2nd110xzfxyfym7jmyb8r0000gn/T//cceQdRUg.s:6868:11: warning: section \"__textcoal_nt\" is deprecated\n",
      "        .section __TEXT,__textcoal_nt,coalesced,pure_instructions\n",
      "                 ^      ~~~~~~~~~~~~~\n",
      "/var/folders/r9/s1k2nd110xzfxyfym7jmyb8r0000gn/T//cceQdRUg.s:6868:11: note: change section name to \"__text\"\n",
      "        .section __TEXT,__textcoal_nt,coalesced,pure_instructions\n",
      "                 ^      ~~~~~~~~~~~~~\n"
     ]
    }
   ],
   "source": [
    "%%pythran\n",
    "#pythran export solve12(str, str: str dict, int)\n",
    "def solve12(initial_state, rules, turns):\n",
    "    state = '..' + initial_state[:] + '..'\n",
    "    left_most = -2\n",
    "    for turn in range(turns):\n",
    "        next_state = '..'\n",
    "        for i in range(0, len(state) - 4):\n",
    "            next_state += rules[state[i:i+5]]\n",
    "        next_state += '..'\n",
    "        # left boundary:\n",
    "        if ('.' + state[:4]) in rules:\n",
    "            next_state = '..' + rules['.' + state[:4]] + next_state[2:]\n",
    "            left_most -= 1\n",
    "        # right boundary\n",
    "        if (state[-4:] + '.') in rules:\n",
    "            next_state = next_state[:-2] +  rules[state[-4:] + '.'] + '..'\n",
    "\n",
    "        state = next_state\n",
    "    return sum([i for i, pot in zip(range(left_most, left_most + len(state)), state) if pot == '#'])"
   ]
  },
  {
   "cell_type": "code",
   "execution_count": 11,
   "metadata": {
    "scrolled": false
   },
   "outputs": [
    {
     "data": {
      "text/plain": [
       "1447"
      ]
     },
     "execution_count": 11,
     "metadata": {},
     "output_type": "execute_result"
    }
   ],
   "source": [
    "solve12(initial_state, rules, turns=20)"
   ]
  },
  {
   "cell_type": "code",
   "execution_count": 12,
   "metadata": {},
   "outputs": [
    {
     "name": "stdout",
     "output_type": "stream",
     "text": [
      "CPU times: user 1.64 ms, sys: 900 µs, total: 2.54 ms\n",
      "Wall time: 1.19 ms\n"
     ]
    },
    {
     "data": {
      "text/plain": [
       "1447"
      ]
     },
     "execution_count": 12,
     "metadata": {},
     "output_type": "execute_result"
    }
   ],
   "source": [
    "%%time\n",
    "solve12(initial_state, rules, turns=20)"
   ]
  },
  {
   "cell_type": "code",
   "execution_count": 13,
   "metadata": {},
   "outputs": [
    {
     "name": "stdout",
     "output_type": "stream",
     "text": [
      "CPU times: user 6.12 ms, sys: 983 µs, total: 7.1 ms\n",
      "Wall time: 5.83 ms\n"
     ]
    },
    {
     "data": {
      "text/plain": [
       "2580"
      ]
     },
     "execution_count": 13,
     "metadata": {},
     "output_type": "execute_result"
    }
   ],
   "source": [
    "%%time\n",
    "solve12(initial_state, rules, turns=100)"
   ]
  },
  {
   "cell_type": "code",
   "execution_count": 14,
   "metadata": {},
   "outputs": [
    {
     "name": "stdout",
     "output_type": "stream",
     "text": [
      "2426\n",
      "2072\n",
      "2580\n",
      "3630\n",
      "4680\n",
      "5730\n",
      "6780\n",
      "7830\n",
      "8880\n",
      "9930\n"
     ]
    }
   ],
   "source": [
    "for _ in range(10):\n",
    "    print(solve12(initial_state, rules, turns=50*_))"
   ]
  },
  {
   "cell_type": "code",
   "execution_count": 15,
   "metadata": {},
   "outputs": [
    {
     "name": "stdout",
     "output_type": "stream",
     "text": [
      "CPU times: user 169 ms, sys: 2.25 ms, total: 171 ms\n",
      "Wall time: 169 ms\n"
     ]
    },
    {
     "data": {
      "text/plain": [
       "21480"
      ]
     },
     "execution_count": 15,
     "metadata": {},
     "output_type": "execute_result"
    }
   ],
   "source": [
    "%%time\n",
    "solve12(initial_state, rules, turns=1000)"
   ]
  },
  {
   "cell_type": "code",
   "execution_count": 16,
   "metadata": {},
   "outputs": [
    {
     "name": "stdout",
     "output_type": "stream",
     "text": [
      "CPU times: user 611 ms, sys: 2.36 ms, total: 613 ms\n",
      "Wall time: 613 ms\n"
     ]
    },
    {
     "data": {
      "text/plain": [
       "42480"
      ]
     },
     "execution_count": 16,
     "metadata": {},
     "output_type": "execute_result"
    }
   ],
   "source": [
    "%%time\n",
    "solve12(initial_state, rules, turns=2000)"
   ]
  },
  {
   "cell_type": "code",
   "execution_count": 17,
   "metadata": {},
   "outputs": [
    {
     "name": "stdout",
     "output_type": "stream",
     "text": [
      "CPU times: user 14.4 s, sys: 30 ms, total: 14.5 s\n",
      "Wall time: 14.5 s\n"
     ]
    },
    {
     "data": {
      "text/plain": [
       "210480"
      ]
     },
     "execution_count": 17,
     "metadata": {},
     "output_type": "execute_result"
    }
   ],
   "source": [
    "%%time\n",
    "solve12(initial_state, rules, turns=10000)"
   ]
  },
  {
   "cell_type": "markdown",
   "metadata": {},
   "source": [
    "# Part 2 "
   ]
  },
  {
   "cell_type": "markdown",
   "metadata": {},
   "source": [
    "How long does the existing implementation take per turn on the large problem?"
   ]
  },
  {
   "cell_type": "code",
   "execution_count": 18,
   "metadata": {},
   "outputs": [
    {
     "data": {
      "text/plain": [
       "0.00145"
      ]
     },
     "execution_count": 18,
     "metadata": {},
     "output_type": "execute_result"
    }
   ],
   "source": [
    "14.5 / 10000"
   ]
  },
  {
   "cell_type": "code",
   "execution_count": 20,
   "metadata": {},
   "outputs": [
    {
     "data": {
      "text/plain": [
       "72500000.0"
      ]
     },
     "execution_count": 20,
     "metadata": {},
     "output_type": "execute_result"
    }
   ],
   "source": [
    "50e9 / 10e3 * 14.5 "
   ]
  },
  {
   "cell_type": "markdown",
   "metadata": {},
   "source": [
    "Woah my code is so slow. \n",
    "\n",
    "How fast does one iteration need to be if I want to get to 100 seconds for instance ?"
   ]
  },
  {
   "cell_type": "code",
   "execution_count": 21,
   "metadata": {},
   "outputs": [
    {
     "data": {
      "text/plain": [
       "2e-09"
      ]
     },
     "execution_count": 21,
     "metadata": {},
     "output_type": "execute_result"
    }
   ],
   "source": [
    "100 / 50e9"
   ]
  },
  {
   "cell_type": "markdown",
   "metadata": {},
   "source": [
    "I need 6 orders of magnitude !!! This is unfeasible... I need a better algorithm."
   ]
  },
  {
   "cell_type": "markdown",
   "metadata": {},
   "source": [
    "Let's start over with the sample problem. We'll implement it using a linked list this time."
   ]
  },
  {
   "cell_type": "code",
   "execution_count": 96,
   "metadata": {},
   "outputs": [],
   "source": [
    "rules = {}\n",
    "for line in sample.split('\\n'):\n",
    "    left, right = line.split(' => ')\n",
    "    rules[\"\".join(map(lambda val: '0' if val=='.' else '1', left))] = (lambda val: 0 if val=='.' else 1)(right)\n",
    "\n",
    "initial_state = '#..#.#..##......###...###'"
   ]
  },
  {
   "cell_type": "code",
   "execution_count": 98,
   "metadata": {},
   "outputs": [],
   "source": [
    "import llist"
   ]
  },
  {
   "cell_type": "code",
   "execution_count": 111,
   "metadata": {},
   "outputs": [],
   "source": [
    "def solve12_llist(initial_state, nturns=20):\n",
    "    state = llist.dllist()\n",
    "    for char in '..' + initial_state[:] + '..':\n",
    "        if char == '.':\n",
    "            current = state.append(0)\n",
    "        else:\n",
    "            current = state.append(1)\n",
    "    left_most = -2\n",
    "    # scanning the first five cells\n",
    "    for _ in range(nturns):\n",
    "        insert_left = False\n",
    "        a = state.first\n",
    "        b = a.next\n",
    "        c = b.next\n",
    "        d = c.next\n",
    "        e = d.next\n",
    "        vals = [a(), b(), c(), d(), e()]\n",
    "        # check start node\n",
    "        if '0'+\"\".join(map(str, vals[:4])) in rules:\n",
    "            insert_left = True\n",
    "        for k in range(len(state) - 5):\n",
    "            if \"\".join(map(str, vals)) in rules:\n",
    "                c.value = 1\n",
    "            else:\n",
    "                c.value = 0\n",
    "            # update nodes\n",
    "            a, b, c, d, e = b, c, d, e, e.next\n",
    "            # update vals\n",
    "            vals = vals[1:] + [e()]\n",
    "        if \"\".join(map(str, vals[1:])) + '0' in rules:\n",
    "            state.insert(llist.dllistnode(1), d)\n",
    "        if insert_left:\n",
    "            state.insert(llist.dllistnode(1), state.first.next.next)\n",
    "            left_most -= 1\n",
    "\n",
    "    return sum([i for i, pot in zip(range(left_most, left_most + len(state)), state) if pot == 1])"
   ]
  },
  {
   "cell_type": "code",
   "execution_count": 118,
   "metadata": {},
   "outputs": [
    {
     "data": {
      "text/plain": [
       "99"
      ]
     },
     "execution_count": 118,
     "metadata": {},
     "output_type": "execute_result"
    }
   ],
   "source": [
    "solve12_llist(initial_state, 20)"
   ]
  },
  {
   "cell_type": "markdown",
   "metadata": {},
   "source": [
    "Now real input:"
   ]
  },
  {
   "cell_type": "code",
   "execution_count": 113,
   "metadata": {},
   "outputs": [
    {
     "data": {
      "text/plain": [
       "'#..#####.#.#.##....####..##.#.#.##.##.#####..####.#.##.....#..#.#.#...###..#..###.##.#..##.#.#.....#'"
      ]
     },
     "execution_count": 113,
     "metadata": {},
     "output_type": "execute_result"
    }
   ],
   "source": [
    "lines = open('input12').readlines()\n",
    "initial_state = lines[0].split('initial state: ')[1].strip()\n",
    "initial_state"
   ]
  },
  {
   "cell_type": "code",
   "execution_count": 114,
   "metadata": {},
   "outputs": [],
   "source": [
    "rules = {}\n",
    "for line in lines[2:]:\n",
    "    left, right = line.split(' => ')\n",
    "    rules[left] = right.strip()"
   ]
  },
  {
   "cell_type": "code",
   "execution_count": 117,
   "metadata": {},
   "outputs": [
    {
     "data": {
      "text/plain": [
       "99"
      ]
     },
     "execution_count": 117,
     "metadata": {},
     "output_type": "execute_result"
    }
   ],
   "source": [
    "solve12_llist(initial_state, 1000)"
   ]
  },
  {
   "cell_type": "code",
   "execution_count": null,
   "metadata": {},
   "outputs": [],
   "source": []
  }
 ],
 "metadata": {
  "kernelspec": {
   "display_name": "Python 3",
   "language": "python",
   "name": "python3"
  },
  "language_info": {
   "codemirror_mode": {
    "name": "ipython",
    "version": 3
   },
   "file_extension": ".py",
   "mimetype": "text/x-python",
   "name": "python",
   "nbconvert_exporter": "python",
   "pygments_lexer": "ipython3",
   "version": "3.6.1"
  },
  "toc": {
   "colors": {
    "hover_highlight": "#DAA520",
    "navigate_num": "#000000",
    "navigate_text": "#333333",
    "running_highlight": "#FF0000",
    "selected_highlight": "#FFD700",
    "sidebar_border": "#EEEEEE",
    "wrapper_background": "#FFFFFF"
   },
   "moveMenuLeft": true,
   "nav_menu": {
    "height": "66px",
    "width": "252px"
   },
   "navigate_menu": true,
   "number_sections": true,
   "sideBar": true,
   "threshold": 4,
   "toc_cell": false,
   "toc_section_display": "block",
   "toc_window_display": false,
   "widenNotebook": false
  }
 },
 "nbformat": 4,
 "nbformat_minor": 2
}
