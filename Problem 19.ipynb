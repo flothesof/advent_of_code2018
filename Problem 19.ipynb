{
 "cells": [
  {
   "cell_type": "markdown",
   "metadata": {},
   "source": [
    "# Part 1 "
   ]
  },
  {
   "cell_type": "code",
   "execution_count": 1,
   "metadata": {},
   "outputs": [],
   "source": [
    "def load_input(fname):\n",
    "    lines = [line.strip() for line in open(fname).readlines()]\n",
    "    return lines"
   ]
  },
  {
   "cell_type": "code",
   "execution_count": 2,
   "metadata": {},
   "outputs": [],
   "source": [
    "program = load_input('input19_sample')"
   ]
  },
  {
   "cell_type": "code",
   "execution_count": 3,
   "metadata": {},
   "outputs": [
    {
     "name": "stdout",
     "output_type": "stream",
     "text": [
      "ip=0, [0, 0, 0, 0, 0, 0] -> [0, 5, 0, 0, 0, 0]\n",
      "ip=1, [0, 5, 0, 0, 0, 0] -> [1, 5, 6, 0, 0, 0]\n",
      "ip=2, [1, 5, 6, 0, 0, 0] -> [3, 5, 6, 0, 0, 0]\n",
      "ip=4, [3, 5, 6, 0, 0, 0] -> [5, 5, 6, 0, 0, 0]\n",
      "ip=6, [5, 5, 6, 0, 0, 0] -> [6, 5, 6, 0, 0, 9]\n"
     ]
    }
   ],
   "source": [
    "registers = [0, 0, 0, 0, 0, 0]\n",
    "program_len = len([line for line in program if not line.startswith('#')])\n",
    "parsed_program = [line for line in program if not line.startswith('#')]\n",
    "# bind instrructions point to a register\n",
    "instr = program[0]\n",
    "ip_register = int(instr.split('#ip ')[1])\n",
    "ip_value = registers[ip_register] \n",
    "\n",
    "while True:\n",
    "    if ip_value >= program_len:\n",
    "        break\n",
    "    print(f\"ip={ip_value}, {registers}\", end=' -> ')\n",
    "    instr = parsed_program[ip_value]\n",
    "    instr_type, A, B, C = instr.split()\n",
    "    A, B, C = int(A), int(B), int(C)\n",
    "    if instr_type == 'seti':\n",
    "        registers[ip_register] = ip_value\n",
    "        registers[C] = A\n",
    "        ip_value = registers[ip_register]\n",
    "        ip_value += 1\n",
    "    elif instr_type == 'addi':\n",
    "        registers[ip_register] = ip_value\n",
    "        registers[C] = registers[A] + B\n",
    "        ip_value = registers[ip_register]\n",
    "        ip_value += 1\n",
    "    elif instr_type == 'setr':\n",
    "        registers[ip_register] = ip_value\n",
    "        registers[C] = registers[A]\n",
    "        ip_value = registers[ip_register]\n",
    "        ip_value += 1\n",
    "    else:\n",
    "        break\n",
    "    print(f\"{registers}\")"
   ]
  },
  {
   "cell_type": "markdown",
   "metadata": {},
   "source": [
    "Let's try the full program."
   ]
  },
  {
   "cell_type": "code",
   "execution_count": 4,
   "metadata": {},
   "outputs": [],
   "source": [
    "program = load_input('input19')"
   ]
  },
  {
   "cell_type": "code",
   "execution_count": 5,
   "metadata": {},
   "outputs": [],
   "source": [
    "from IPython.display import clear_output, display"
   ]
  },
  {
   "cell_type": "code",
   "execution_count": 6,
   "metadata": {},
   "outputs": [
    {
     "data": {
      "text/plain": [
       "[1080, 5, 1003, 1003, 0, 992]"
      ]
     },
     "metadata": {},
     "output_type": "display_data"
    },
    {
     "name": "stdout",
     "output_type": "stream",
     "text": [
      "program finished\n",
      "[1080, 256, 1003, 1004, 1, 1004]\n",
      "1080\n"
     ]
    }
   ],
   "source": [
    "registers = [0, 0, 0, 0, 0, 0]\n",
    "program_len = len([line for line in program if not line.startswith('#')])\n",
    "parsed_program = [line for line in program if not line.startswith('#')]\n",
    "# bind instrructions point to a register\n",
    "instr = program[0]\n",
    "ip_register = int(instr.split('#ip ')[1])\n",
    "ip_value = registers[ip_register] \n",
    "print_output = False\n",
    "count = 0\n",
    "\n",
    "while True:\n",
    "    if count % 1000 == 0: \n",
    "        clear_output()\n",
    "        display(registers)\n",
    "    if ip_value >= program_len or ip_value < 0:\n",
    "        print('program finished')\n",
    "        break\n",
    "    if print_output: print(f\"ip={ip_value}, {registers}\", end=' -> ')\n",
    "    instr = parsed_program[ip_value]\n",
    "    instr_type, A, B, C = instr.split()\n",
    "    A, B, C = int(A), int(B), int(C)\n",
    "    if instr_type == 'seti':\n",
    "        registers[ip_register] = ip_value\n",
    "        registers[C] = A\n",
    "        ip_value = registers[ip_register]\n",
    "        ip_value += 1\n",
    "    elif instr_type == 'addi':\n",
    "        registers[ip_register] = ip_value\n",
    "        registers[C] = registers[A] + B\n",
    "        ip_value = registers[ip_register]\n",
    "        ip_value += 1\n",
    "    elif instr_type == 'setr':\n",
    "        registers[ip_register] = ip_value\n",
    "        registers[C] = registers[A]\n",
    "        ip_value = registers[ip_register]\n",
    "        ip_value += 1\n",
    "    elif instr_type == 'mulr':\n",
    "        registers[ip_register] = ip_value\n",
    "        registers[C] = registers[A] * registers[B]\n",
    "        ip_value = registers[ip_register]\n",
    "        ip_value += 1\n",
    "    elif instr_type == 'muli':\n",
    "        registers[ip_register] = ip_value\n",
    "        registers[C] = registers[A] * B\n",
    "        ip_value = registers[ip_register]\n",
    "        ip_value += 1\n",
    "    elif instr_type == 'addr':\n",
    "        registers[ip_register] = ip_value\n",
    "        registers[C] = registers[A] + registers[B]\n",
    "        ip_value = registers[ip_register]\n",
    "        ip_value += 1\n",
    "    elif instr_type == 'eqrr':\n",
    "        registers[ip_register] = ip_value\n",
    "        if registers[A] == registers[B]:\n",
    "            registers[C] = 1\n",
    "        else:\n",
    "            registers[C] = 0\n",
    "        ip_value = registers[ip_register]\n",
    "        ip_value += 1\n",
    "    elif instr_type == 'gtrr':\n",
    "        registers[ip_register] = ip_value\n",
    "        if registers[A] > registers[B]:\n",
    "            registers[C] = 1\n",
    "        else:\n",
    "            registers[C] = 0\n",
    "        ip_value = registers[ip_register]\n",
    "        ip_value += 1\n",
    "    else:\n",
    "        print(f'need instruction {instr_type}')\n",
    "        break\n",
    "    if print_output: print(f\"{registers}\")\n",
    "    count += 1\n",
    "print(registers)\n",
    "print(registers[0])"
   ]
  },
  {
   "cell_type": "markdown",
   "metadata": {},
   "source": [
    "# Part 2 "
   ]
  },
  {
   "cell_type": "markdown",
   "metadata": {},
   "source": [
    "This time register 0 starts with 1."
   ]
  },
  {
   "cell_type": "code",
   "execution_count": 35,
   "metadata": {},
   "outputs": [
    {
     "data": {
      "text/plain": [
       "[0, 5, 10551403, 1, 0, 124998]"
      ]
     },
     "metadata": {},
     "output_type": "display_data"
    },
    {
     "ename": "KeyboardInterrupt",
     "evalue": "",
     "output_type": "error",
     "traceback": [
      "\u001b[0;31m---------------------------------------------------------------------------\u001b[0m",
      "\u001b[0;31mKeyboardInterrupt\u001b[0m                         Traceback (most recent call last)",
      "\u001b[0;32m<ipython-input-35-1a9ef575962f>\u001b[0m in \u001b[0;36m<module>\u001b[0;34m()\u001b[0m\n\u001b[1;32m     17\u001b[0m         \u001b[0;32mbreak\u001b[0m\u001b[0;34m\u001b[0m\u001b[0m\n\u001b[1;32m     18\u001b[0m     \u001b[0;32mif\u001b[0m \u001b[0mprint_output\u001b[0m\u001b[0;34m:\u001b[0m \u001b[0mprint\u001b[0m\u001b[0;34m(\u001b[0m\u001b[0;34mf\"ip={ip_value}, {registers}\"\u001b[0m\u001b[0;34m,\u001b[0m \u001b[0mend\u001b[0m\u001b[0;34m=\u001b[0m\u001b[0;34m' -> '\u001b[0m\u001b[0;34m)\u001b[0m\u001b[0;34m\u001b[0m\u001b[0m\n\u001b[0;32m---> 19\u001b[0;31m     \u001b[0minstr\u001b[0m \u001b[0;34m=\u001b[0m \u001b[0mparsed_program\u001b[0m\u001b[0;34m[\u001b[0m\u001b[0mip_value\u001b[0m\u001b[0;34m]\u001b[0m\u001b[0;34m\u001b[0m\u001b[0m\n\u001b[0m\u001b[1;32m     20\u001b[0m     \u001b[0minstr_type\u001b[0m\u001b[0;34m,\u001b[0m \u001b[0mA\u001b[0m\u001b[0;34m,\u001b[0m \u001b[0mB\u001b[0m\u001b[0;34m,\u001b[0m \u001b[0mC\u001b[0m \u001b[0;34m=\u001b[0m \u001b[0minstr\u001b[0m\u001b[0;34m.\u001b[0m\u001b[0msplit\u001b[0m\u001b[0;34m(\u001b[0m\u001b[0;34m)\u001b[0m\u001b[0;34m\u001b[0m\u001b[0m\n\u001b[1;32m     21\u001b[0m     \u001b[0mA\u001b[0m\u001b[0;34m,\u001b[0m \u001b[0mB\u001b[0m\u001b[0;34m,\u001b[0m \u001b[0mC\u001b[0m \u001b[0;34m=\u001b[0m \u001b[0mint\u001b[0m\u001b[0;34m(\u001b[0m\u001b[0mA\u001b[0m\u001b[0;34m)\u001b[0m\u001b[0;34m,\u001b[0m \u001b[0mint\u001b[0m\u001b[0;34m(\u001b[0m\u001b[0mB\u001b[0m\u001b[0;34m)\u001b[0m\u001b[0;34m,\u001b[0m \u001b[0mint\u001b[0m\u001b[0;34m(\u001b[0m\u001b[0mC\u001b[0m\u001b[0;34m)\u001b[0m\u001b[0;34m\u001b[0m\u001b[0m\n",
      "\u001b[0;31mKeyboardInterrupt\u001b[0m: "
     ]
    }
   ],
   "source": [
    "registers = [1, 0, 0, 0, 0, 0]\n",
    "program_len = len([line for line in program if not line.startswith('#')])\n",
    "parsed_program = [line for line in program if not line.startswith('#')]\n",
    "# bind instrructions point to a register\n",
    "instr = program[0]\n",
    "ip_register = int(instr.split('#ip ')[1])\n",
    "ip_value = registers[ip_register] \n",
    "print_output = False\n",
    "count = 0\n",
    "\n",
    "while True:\n",
    "    if count % 100000 == 0: \n",
    "        clear_output()\n",
    "        display(registers)\n",
    "    if ip_value >= program_len or ip_value < 0:\n",
    "        print('program finished')\n",
    "        break\n",
    "    if print_output: print(f\"ip={ip_value}, {registers}\", end=' -> ')\n",
    "    instr = parsed_program[ip_value]\n",
    "    instr_type, A, B, C = instr.split()\n",
    "    A, B, C = int(A), int(B), int(C)\n",
    "    if instr_type == 'seti':\n",
    "        registers[ip_register] = ip_value\n",
    "        registers[C] = A\n",
    "        ip_value = registers[ip_register]\n",
    "        ip_value += 1\n",
    "    elif instr_type == 'addi':\n",
    "        registers[ip_register] = ip_value\n",
    "        registers[C] = registers[A] + B\n",
    "        ip_value = registers[ip_register]\n",
    "        ip_value += 1\n",
    "    elif instr_type == 'setr':\n",
    "        registers[ip_register] = ip_value\n",
    "        registers[C] = registers[A]\n",
    "        ip_value = registers[ip_register]\n",
    "        ip_value += 1\n",
    "    elif instr_type == 'mulr':\n",
    "        registers[ip_register] = ip_value\n",
    "        registers[C] = registers[A] * registers[B]\n",
    "        ip_value = registers[ip_register]\n",
    "        ip_value += 1\n",
    "    elif instr_type == 'muli':\n",
    "        registers[ip_register] = ip_value\n",
    "        registers[C] = registers[A] * B\n",
    "        ip_value = registers[ip_register]\n",
    "        ip_value += 1\n",
    "    elif instr_type == 'addr':\n",
    "        registers[ip_register] = ip_value\n",
    "        registers[C] = registers[A] + registers[B]\n",
    "        ip_value = registers[ip_register]\n",
    "        ip_value += 1\n",
    "    elif instr_type == 'eqrr':\n",
    "        registers[ip_register] = ip_value\n",
    "        if registers[A] == registers[B]:\n",
    "            registers[C] = 1\n",
    "        else:\n",
    "            registers[C] = 0\n",
    "        ip_value = registers[ip_register]\n",
    "        ip_value += 1\n",
    "    elif instr_type == 'gtrr':\n",
    "        registers[ip_register] = ip_value\n",
    "        if registers[A] > registers[B]:\n",
    "            registers[C] = 1\n",
    "        else:\n",
    "            registers[C] = 0\n",
    "        ip_value = registers[ip_register]\n",
    "        ip_value += 1\n",
    "    else:\n",
    "        print(f'need instruction {instr_type}')\n",
    "        break\n",
    "    if print_output: print(f\"{registers}\")\n",
    "    count += 1\n",
    "print(registers)\n",
    "print(registers[0])"
   ]
  },
  {
   "cell_type": "markdown",
   "metadata": {},
   "source": [
    "Let's make a source code annotator."
   ]
  },
  {
   "cell_type": "code",
   "execution_count": 8,
   "metadata": {},
   "outputs": [],
   "source": [
    "from IPython.display import HTML"
   ]
  },
  {
   "cell_type": "code",
   "execution_count": 176,
   "metadata": {},
   "outputs": [],
   "source": [
    "helpstr = {'addr': '(add register) stores into register {C} the result of adding register {A} and register {B}.',\n",
    "          'addi': '(add immediate) stores into register {C} the result of adding register {A} and value {B}.',\n",
    "          'seti': '(set immediate) stores value {A} into register {C}. (Input B is ignored.)',\n",
    "          'mulr': '(multiply register) stores into register {C} the result of multiplying register {A} and register {B}.',\n",
    "          'eqrr': '(equal register/register) sets register {C} to 1 if register {A} is equal to register {B}.\\nOtherwise, register {C} is set to 0.',\n",
    "          'gtrr': '(greater-than register/register) sets register {C} to 1 if register {A} is greater than register {B}. Otherwise, register {C} is set to 0.',\n",
    "          'muli': '(multiply immediate) stores into register {C} the result of multiplying register {A} and value {B}.',\n",
    "          'setr': '(set register) copies the contents of register {A} into register {C}. (Input B is ignored.)'}\n",
    "\n",
    "def annotate(parsed_program, ip_value, registers):\n",
    "    \n",
    "    instr = parsed_program[ip_value]\n",
    "    instr_type, A, B, C = instr.split()\n",
    "    A, B, C = int(A), int(B), int(C)\n",
    "    \n",
    "    parsed_copy = parsed_program[:]\n",
    "    parsed_copy[ip_value] = \"<span style='background-color: #FFFF00'>\" + parsed_copy[ip_value] + \"</span>\"\n",
    "    listing = \"<div>\" + \"\".join([\"<p><i>{}: </i>\".format(ind) + item + \"</p>\" for ind, item in enumerate(parsed_copy)]) + \"</div>\"\n",
    "    \n",
    "    register_html = '<p>' + \", \".join(\"<i>r{}: </i>{}\".format(ind, item) for ind, item in enumerate(registers)) + '</p><p>' + helpstr[instr_type].format(A=A, B=B, C=C)\n",
    "    \n",
    "    style = \"\"\"<style>\n",
    "    p {\n",
    "   line-height:20%;\n",
    "}\n",
    "    .mycontainer {\n",
    "    width: 80%;\n",
    "    margin: auto;\n",
    "    font-family: monospace;\n",
    "    font-size: 12px;\n",
    "    \n",
    "}\n",
    ".myone {\n",
    "    width: 20%;\n",
    "    float: left;\n",
    "}\n",
    ".mytwo {\n",
    "    margin-left: 20%;\n",
    "    width: 80%;\n",
    "}\n",
    ".mytwo p {\n",
    "    line-height:100%;\n",
    "}\n",
    "    </style>\n",
    "    \"\"\"\n",
    "    container = \"\"\"<section class=\"mycontainer\">\n",
    "    <div class=\"myone\">{}</div>\n",
    "    <div class=\"mytwo\">{}</div>\n",
    "    </section>\"\"\".format(listing, register_html)\n",
    "    return HTML(style + container)"
   ]
  },
  {
   "cell_type": "code",
   "execution_count": 177,
   "metadata": {},
   "outputs": [
    {
     "data": {
      "text/html": [
       "<style>\n",
       "    p {\n",
       "   line-height:20%;\n",
       "}\n",
       "    .mycontainer {\n",
       "    width: 80%;\n",
       "    margin: auto;\n",
       "    font-family: monospace;\n",
       "    font-size: 12px;\n",
       "    \n",
       "}\n",
       ".myone {\n",
       "    width: 20%;\n",
       "    float: left;\n",
       "}\n",
       ".mytwo {\n",
       "    margin-left: 20%;\n",
       "    width: 80%;\n",
       "}\n",
       ".mytwo p {\n",
       "    line-height:100%;\n",
       "}\n",
       "    </style>\n",
       "    <section class=\"mycontainer\">\n",
       "    <div class=\"myone\"><div><p><i>0: </i>addi 1 16 1</p><p><i>1: </i>seti 1 5 3</p><p><i>2: </i>seti 1 7 5</p><p><i>3: </i>mulr 3 5 4</p><p><i>4: </i>eqrr 4 2 4</p><p><i>5: </i><span style='background-color: #FFFF00'>addr 4 1 1</span></p><p><i>6: </i>addi 1 1 1</p><p><i>7: </i>addr 3 0 0</p><p><i>8: </i>addi 5 1 5</p><p><i>9: </i>gtrr 5 2 4</p><p><i>10: </i>addr 1 4 1</p><p><i>11: </i>seti 2 1 1</p><p><i>12: </i>addi 3 1 3</p><p><i>13: </i>gtrr 3 2 4</p><p><i>14: </i>addr 4 1 1</p><p><i>15: </i>seti 1 3 1</p><p><i>16: </i>mulr 1 1 1</p><p><i>17: </i>addi 2 2 2</p><p><i>18: </i>mulr 2 2 2</p><p><i>19: </i>mulr 1 2 2</p><p><i>20: </i>muli 2 11 2</p><p><i>21: </i>addi 4 7 4</p><p><i>22: </i>mulr 4 1 4</p><p><i>23: </i>addi 4 13 4</p><p><i>24: </i>addr 2 4 2</p><p><i>25: </i>addr 1 0 1</p><p><i>26: </i>seti 0 9 1</p><p><i>27: </i>setr 1 0 4</p><p><i>28: </i>mulr 4 1 4</p><p><i>29: </i>addr 1 4 4</p><p><i>30: </i>mulr 1 4 4</p><p><i>31: </i>muli 4 14 4</p><p><i>32: </i>mulr 4 1 4</p><p><i>33: </i>addr 2 4 2</p><p><i>34: </i>seti 0 2 0</p><p><i>35: </i>seti 0 0 1</p></div></div>\n",
       "    <div class=\"mytwo\"><p><i>r0: </i>1, <i>r1: </i>3, <i>r2: </i>10551403, <i>r3: </i>3, <i>r4: </i>36, <i>r5: </i>12</p><p>(add register) stores into register 1 the result of adding register 4 and register 1.</div>\n",
       "    </section>"
      ],
      "text/plain": [
       "<IPython.core.display.HTML object>"
      ]
     },
     "execution_count": 177,
     "metadata": {},
     "output_type": "execute_result"
    }
   ],
   "source": [
    "annotate(parsed_program, 5, registers)"
   ]
  },
  {
   "cell_type": "markdown",
   "metadata": {},
   "source": [
    "Now we can write a little program that can execute a given number of steps."
   ]
  },
  {
   "cell_type": "code",
   "execution_count": 178,
   "metadata": {},
   "outputs": [],
   "source": [
    "from ipywidgets import interact_manual"
   ]
  },
  {
   "cell_type": "code",
   "execution_count": 200,
   "metadata": {},
   "outputs": [
    {
     "data": {
      "application/vnd.jupyter.widget-view+json": {
       "model_id": "d627d14826d246589a807138ac4b8532",
       "version_major": 2,
       "version_minor": 0
      },
      "text/html": [
       "<p>Failed to display Jupyter Widget of type <code>interactive</code>.</p>\n",
       "<p>\n",
       "  If you're reading this message in the Jupyter Notebook or JupyterLab Notebook, it may mean\n",
       "  that the widgets JavaScript is still loading. If this message persists, it\n",
       "  likely means that the widgets JavaScript library is either not installed or\n",
       "  not enabled. See the <a href=\"https://ipywidgets.readthedocs.io/en/stable/user_install.html\">Jupyter\n",
       "  Widgets Documentation</a> for setup instructions.\n",
       "</p>\n",
       "<p>\n",
       "  If you're reading this message in another frontend (for example, a static\n",
       "  rendering on GitHub or <a href=\"https://nbviewer.jupyter.org/\">NBViewer</a>),\n",
       "  it may mean that your frontend doesn't currently support widgets.\n",
       "</p>\n"
      ],
      "text/plain": [
       "interactive(children=(Dropdown(description='n', options=(1, 10), value=1), Button(description='Run Interact', style=ButtonStyle()), Output()), _dom_classes=('widget-interact',))"
      ]
     },
     "metadata": {},
     "output_type": "display_data"
    }
   ],
   "source": [
    "program = load_input('input19')\n",
    "registers = [1, 0, 0, 0, 0, 0]\n",
    "program_len = len([line for line in program if not line.startswith('#')])\n",
    "parsed_program = [line for line in program if not line.startswith('#')]\n",
    "# bind instrructions point to a register\n",
    "instr = program[0]\n",
    "ip_register = int(instr.split('#ip ')[1])\n",
    "ip_value = registers[ip_register] \n",
    "count = 0\n",
    "\n",
    "@interact_manual\n",
    "def step(n=[1, 10]):\n",
    "    global ip_value, count, registers\n",
    "    for _ in range(n):\n",
    "        if ip_value >= program_len or ip_value < 0:\n",
    "            print('program finished')\n",
    "        display(annotate(parsed_program, ip_value, registers))\n",
    "        instr = parsed_program[ip_value]\n",
    "        instr_type, A, B, C = instr.split()\n",
    "        A, B, C = int(A), int(B), int(C)\n",
    "        if instr_type == 'seti':\n",
    "            registers[ip_register] = ip_value\n",
    "            registers[C] = A\n",
    "            ip_value = registers[ip_register]\n",
    "            ip_value += 1\n",
    "        elif instr_type == 'addi':\n",
    "            registers[ip_register] = ip_value\n",
    "            registers[C] = registers[A] + B\n",
    "            ip_value = registers[ip_register]\n",
    "            ip_value += 1\n",
    "        elif instr_type == 'setr':\n",
    "            registers[ip_register] = ip_value\n",
    "            registers[C] = registers[A]\n",
    "            ip_value = registers[ip_register]\n",
    "            ip_value += 1\n",
    "        elif instr_type == 'mulr':\n",
    "            registers[ip_register] = ip_value\n",
    "            registers[C] = registers[A] * registers[B]\n",
    "            ip_value = registers[ip_register]\n",
    "            ip_value += 1\n",
    "        elif instr_type == 'muli':\n",
    "            registers[ip_register] = ip_value\n",
    "            registers[C] = registers[A] * B\n",
    "            ip_value = registers[ip_register]\n",
    "            ip_value += 1\n",
    "        elif instr_type == 'addr':\n",
    "            registers[ip_register] = ip_value\n",
    "            registers[C] = registers[A] + registers[B]\n",
    "            ip_value = registers[ip_register]\n",
    "            ip_value += 1\n",
    "        elif instr_type == 'eqrr':\n",
    "            registers[ip_register] = ip_value\n",
    "            if registers[A] == registers[B]:\n",
    "                registers[C] = 1\n",
    "            else:\n",
    "                registers[C] = 0\n",
    "            ip_value = registers[ip_register]\n",
    "            ip_value += 1\n",
    "        elif instr_type == 'gtrr':\n",
    "            registers[ip_register] = ip_value\n",
    "            if registers[A] > registers[B]:\n",
    "                registers[C] = 1\n",
    "            else:\n",
    "                registers[C] = 0\n",
    "            ip_value = registers[ip_register]\n",
    "            ip_value += 1\n",
    "        count += 1\n",
    "    "
   ]
  },
  {
   "cell_type": "code",
   "execution_count": 196,
   "metadata": {},
   "outputs": [],
   "source": [
    "#fullfil line 4 conditions\n",
    "registers[4] = 1"
   ]
  },
  {
   "cell_type": "code",
   "execution_count": 197,
   "metadata": {},
   "outputs": [],
   "source": [
    "#fullfil line 9 conditions\n",
    "registers[4] = 1\n",
    "registers[5] = registers[2] + 1"
   ]
  },
  {
   "cell_type": "code",
   "execution_count": 198,
   "metadata": {},
   "outputs": [],
   "source": [
    "#fullfil line 13 conditions\n",
    "registers[4] = 1\n",
    "registers[3] = registers[2] + 1"
   ]
  },
  {
   "cell_type": "code",
   "execution_count": 199,
   "metadata": {},
   "outputs": [
    {
     "data": {
      "text/plain": [
       "[1, 256, 10551403, 10551404, 1, 10551404]"
      ]
     },
     "execution_count": 199,
     "metadata": {},
     "output_type": "execute_result"
    }
   ],
   "source": [
    "registers"
   ]
  },
  {
   "cell_type": "code",
   "execution_count": 201,
   "metadata": {},
   "outputs": [
    {
     "data": {
      "text/plain": [
       "10551405"
      ]
     },
     "execution_count": 201,
     "metadata": {},
     "output_type": "execute_result"
    }
   ],
   "source": [
    "10551404 + 1"
   ]
  },
  {
   "cell_type": "code",
   "execution_count": null,
   "metadata": {},
   "outputs": [],
   "source": []
  }
 ],
 "metadata": {
  "kernelspec": {
   "display_name": "Python 3",
   "language": "python",
   "name": "python3"
  },
  "language_info": {
   "codemirror_mode": {
    "name": "ipython",
    "version": 3
   },
   "file_extension": ".py",
   "mimetype": "text/x-python",
   "name": "python",
   "nbconvert_exporter": "python",
   "pygments_lexer": "ipython3",
   "version": "3.6.1"
  },
  "toc": {
   "colors": {
    "hover_highlight": "#DAA520",
    "navigate_num": "#000000",
    "navigate_text": "#333333",
    "running_highlight": "#FF0000",
    "selected_highlight": "#FFD700",
    "sidebar_border": "#EEEEEE",
    "wrapper_background": "#FFFFFF"
   },
   "moveMenuLeft": true,
   "nav_menu": {
    "height": "12px",
    "width": "252px"
   },
   "navigate_menu": true,
   "number_sections": true,
   "sideBar": true,
   "threshold": 4,
   "toc_cell": false,
   "toc_section_display": "block",
   "toc_window_display": false,
   "widenNotebook": false
  }
 },
 "nbformat": 4,
 "nbformat_minor": 2
}
