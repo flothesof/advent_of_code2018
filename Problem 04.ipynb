{
 "cells": [
  {
   "cell_type": "code",
   "execution_count": 1,
   "metadata": {},
   "outputs": [],
   "source": [
    "lines = [line.strip() for line in open('input04.txt').readlines()]"
   ]
  },
  {
   "cell_type": "code",
   "execution_count": 2,
   "metadata": {},
   "outputs": [
    {
     "data": {
      "text/plain": [
       "['[1518-04-25 00:24] falls asleep',\n",
       " '[1518-05-22 23:50] Guard #3299 begins shift',\n",
       " '[1518-06-25 00:25] falls asleep',\n",
       " '[1518-04-13 00:54] wakes up',\n",
       " '[1518-04-10 00:04] Guard #2467 begins shift',\n",
       " '[1518-08-03 00:01] Guard #2543 begins shift',\n",
       " '[1518-03-31 00:01] Guard #613 begins shift',\n",
       " '[1518-07-07 00:57] wakes up',\n",
       " '[1518-03-28 00:59] wakes up',\n",
       " '[1518-07-15 23:59] Guard #883 begins shift']"
      ]
     },
     "execution_count": 2,
     "metadata": {},
     "output_type": "execute_result"
    }
   ],
   "source": [
    "lines[:10]"
   ]
  },
  {
   "cell_type": "code",
   "execution_count": 59,
   "metadata": {},
   "outputs": [],
   "source": [
    "parsed = []\n",
    "for line in lines:\n",
    "    full_date = line[1:17]\n",
    "    full_date = full_date.replace(':', '-').replace(' ', '-')\n",
    "    yy = int(line[1:5])\n",
    "    mm = int(line[6:8])\n",
    "    dd = int(line[9:11])\n",
    "    hour = int(line[12:14])\n",
    "    minute = int(line[15:17])\n",
    "    if 'falls asleep' in line:\n",
    "        asleep = True\n",
    "    else: \n",
    "        asleep = False\n",
    "    if '#' in line:\n",
    "        guard = int(line.split('#')[1].split(' ')[0])\n",
    "    else:\n",
    "        guard = -1\n",
    "    if 'wakes up' in line:\n",
    "        wakeup = True\n",
    "    else:\n",
    "        wakeup = False\n",
    "    \n",
    "    parsed.append((full_date, yy, mm, dd, hour, minute, guard, asleep, wakeup))"
   ]
  },
  {
   "cell_type": "code",
   "execution_count": 60,
   "metadata": {},
   "outputs": [
    {
     "data": {
      "text/plain": [
       "('1518-05-22-23-50', 1518, 5, 22, 23, 50, 3299, False, False)"
      ]
     },
     "execution_count": 60,
     "metadata": {},
     "output_type": "execute_result"
    }
   ],
   "source": [
    "parsed[1]"
   ]
  },
  {
   "cell_type": "code",
   "execution_count": 61,
   "metadata": {},
   "outputs": [],
   "source": [
    "import pandas as pd"
   ]
  },
  {
   "cell_type": "code",
   "execution_count": 62,
   "metadata": {},
   "outputs": [],
   "source": [
    "df = pd.DataFrame(parsed, columns=['full_date', 'year', 'month', 'day', 'hour', 'minute', 'guard_id', 'asleep', 'wakeup'])"
   ]
  },
  {
   "cell_type": "code",
   "execution_count": 63,
   "metadata": {},
   "outputs": [
    {
     "data": {
      "text/html": [
       "<div>\n",
       "<style>\n",
       "    .dataframe thead tr:only-child th {\n",
       "        text-align: right;\n",
       "    }\n",
       "\n",
       "    .dataframe thead th {\n",
       "        text-align: left;\n",
       "    }\n",
       "\n",
       "    .dataframe tbody tr th {\n",
       "        vertical-align: top;\n",
       "    }\n",
       "</style>\n",
       "<table border=\"1\" class=\"dataframe\">\n",
       "  <thead>\n",
       "    <tr style=\"text-align: right;\">\n",
       "      <th></th>\n",
       "      <th>full_date</th>\n",
       "      <th>year</th>\n",
       "      <th>month</th>\n",
       "      <th>day</th>\n",
       "      <th>hour</th>\n",
       "      <th>minute</th>\n",
       "      <th>guard_id</th>\n",
       "      <th>asleep</th>\n",
       "      <th>wakeup</th>\n",
       "    </tr>\n",
       "  </thead>\n",
       "  <tbody>\n",
       "    <tr>\n",
       "      <th>0</th>\n",
       "      <td>1518-04-25-00-24</td>\n",
       "      <td>1518</td>\n",
       "      <td>4</td>\n",
       "      <td>25</td>\n",
       "      <td>0</td>\n",
       "      <td>24</td>\n",
       "      <td>-1</td>\n",
       "      <td>True</td>\n",
       "      <td>False</td>\n",
       "    </tr>\n",
       "    <tr>\n",
       "      <th>1</th>\n",
       "      <td>1518-05-22-23-50</td>\n",
       "      <td>1518</td>\n",
       "      <td>5</td>\n",
       "      <td>22</td>\n",
       "      <td>23</td>\n",
       "      <td>50</td>\n",
       "      <td>3299</td>\n",
       "      <td>False</td>\n",
       "      <td>False</td>\n",
       "    </tr>\n",
       "    <tr>\n",
       "      <th>2</th>\n",
       "      <td>1518-06-25-00-25</td>\n",
       "      <td>1518</td>\n",
       "      <td>6</td>\n",
       "      <td>25</td>\n",
       "      <td>0</td>\n",
       "      <td>25</td>\n",
       "      <td>-1</td>\n",
       "      <td>True</td>\n",
       "      <td>False</td>\n",
       "    </tr>\n",
       "    <tr>\n",
       "      <th>3</th>\n",
       "      <td>1518-04-13-00-54</td>\n",
       "      <td>1518</td>\n",
       "      <td>4</td>\n",
       "      <td>13</td>\n",
       "      <td>0</td>\n",
       "      <td>54</td>\n",
       "      <td>-1</td>\n",
       "      <td>False</td>\n",
       "      <td>True</td>\n",
       "    </tr>\n",
       "    <tr>\n",
       "      <th>4</th>\n",
       "      <td>1518-04-10-00-04</td>\n",
       "      <td>1518</td>\n",
       "      <td>4</td>\n",
       "      <td>10</td>\n",
       "      <td>0</td>\n",
       "      <td>4</td>\n",
       "      <td>2467</td>\n",
       "      <td>False</td>\n",
       "      <td>False</td>\n",
       "    </tr>\n",
       "  </tbody>\n",
       "</table>\n",
       "</div>"
      ],
      "text/plain": [
       "          full_date  year  month  day  hour  minute  guard_id  asleep  wakeup\n",
       "0  1518-04-25-00-24  1518      4   25     0      24        -1    True   False\n",
       "1  1518-05-22-23-50  1518      5   22    23      50      3299   False   False\n",
       "2  1518-06-25-00-25  1518      6   25     0      25        -1    True   False\n",
       "3  1518-04-13-00-54  1518      4   13     0      54        -1   False    True\n",
       "4  1518-04-10-00-04  1518      4   10     0       4      2467   False   False"
      ]
     },
     "execution_count": 63,
     "metadata": {},
     "output_type": "execute_result"
    }
   ],
   "source": [
    "df.head()"
   ]
  },
  {
   "cell_type": "code",
   "execution_count": 69,
   "metadata": {},
   "outputs": [
    {
     "data": {
      "text/html": [
       "<div>\n",
       "<style>\n",
       "    .dataframe thead tr:only-child th {\n",
       "        text-align: right;\n",
       "    }\n",
       "\n",
       "    .dataframe thead th {\n",
       "        text-align: left;\n",
       "    }\n",
       "\n",
       "    .dataframe tbody tr th {\n",
       "        vertical-align: top;\n",
       "    }\n",
       "</style>\n",
       "<table border=\"1\" class=\"dataframe\">\n",
       "  <thead>\n",
       "    <tr style=\"text-align: right;\">\n",
       "      <th></th>\n",
       "      <th>year</th>\n",
       "      <th>month</th>\n",
       "      <th>day</th>\n",
       "      <th>hour</th>\n",
       "      <th>minute</th>\n",
       "      <th>guard_id</th>\n",
       "    </tr>\n",
       "  </thead>\n",
       "  <tbody>\n",
       "    <tr>\n",
       "      <th>count</th>\n",
       "      <td>1072.0</td>\n",
       "      <td>1072.000000</td>\n",
       "      <td>1072.000000</td>\n",
       "      <td>1072.000000</td>\n",
       "      <td>1072.000000</td>\n",
       "      <td>1072.000000</td>\n",
       "    </tr>\n",
       "    <tr>\n",
       "      <th>mean</th>\n",
       "      <td>1518.0</td>\n",
       "      <td>6.767724</td>\n",
       "      <td>15.762127</td>\n",
       "      <td>2.810634</td>\n",
       "      <td>33.986007</td>\n",
       "      <td>421.018657</td>\n",
       "    </tr>\n",
       "    <tr>\n",
       "      <th>std</th>\n",
       "      <td>0.0</td>\n",
       "      <td>2.570965</td>\n",
       "      <td>8.832942</td>\n",
       "      <td>7.536439</td>\n",
       "      <td>20.210812</td>\n",
       "      <td>856.590941</td>\n",
       "    </tr>\n",
       "    <tr>\n",
       "      <th>min</th>\n",
       "      <td>1518.0</td>\n",
       "      <td>2.000000</td>\n",
       "      <td>1.000000</td>\n",
       "      <td>0.000000</td>\n",
       "      <td>0.000000</td>\n",
       "      <td>-1.000000</td>\n",
       "    </tr>\n",
       "    <tr>\n",
       "      <th>25%</th>\n",
       "      <td>1518.0</td>\n",
       "      <td>5.000000</td>\n",
       "      <td>8.000000</td>\n",
       "      <td>0.000000</td>\n",
       "      <td>17.000000</td>\n",
       "      <td>-1.000000</td>\n",
       "    </tr>\n",
       "    <tr>\n",
       "      <th>50%</th>\n",
       "      <td>1518.0</td>\n",
       "      <td>7.000000</td>\n",
       "      <td>16.000000</td>\n",
       "      <td>0.000000</td>\n",
       "      <td>39.000000</td>\n",
       "      <td>-1.000000</td>\n",
       "    </tr>\n",
       "    <tr>\n",
       "      <th>75%</th>\n",
       "      <td>1518.0</td>\n",
       "      <td>9.000000</td>\n",
       "      <td>24.000000</td>\n",
       "      <td>0.000000</td>\n",
       "      <td>52.000000</td>\n",
       "      <td>283.000000</td>\n",
       "    </tr>\n",
       "    <tr>\n",
       "      <th>max</th>\n",
       "      <td>1518.0</td>\n",
       "      <td>11.000000</td>\n",
       "      <td>31.000000</td>\n",
       "      <td>23.000000</td>\n",
       "      <td>59.000000</td>\n",
       "      <td>3571.000000</td>\n",
       "    </tr>\n",
       "  </tbody>\n",
       "</table>\n",
       "</div>"
      ],
      "text/plain": [
       "         year        month          day         hour       minute     guard_id\n",
       "count  1072.0  1072.000000  1072.000000  1072.000000  1072.000000  1072.000000\n",
       "mean   1518.0     6.767724    15.762127     2.810634    33.986007   421.018657\n",
       "std       0.0     2.570965     8.832942     7.536439    20.210812   856.590941\n",
       "min    1518.0     2.000000     1.000000     0.000000     0.000000    -1.000000\n",
       "25%    1518.0     5.000000     8.000000     0.000000    17.000000    -1.000000\n",
       "50%    1518.0     7.000000    16.000000     0.000000    39.000000    -1.000000\n",
       "75%    1518.0     9.000000    24.000000     0.000000    52.000000   283.000000\n",
       "max    1518.0    11.000000    31.000000    23.000000    59.000000  3571.000000"
      ]
     },
     "execution_count": 69,
     "metadata": {},
     "output_type": "execute_result"
    }
   ],
   "source": [
    "df.describe()"
   ]
  },
  {
   "cell_type": "code",
   "execution_count": 64,
   "metadata": {},
   "outputs": [
    {
     "data": {
      "text/plain": [
       "[('1518-02-22-23-58', 1518, 2, 22, 23, 58, 2543, False, False),\n",
       " ('1518-02-23-00-15', 1518, 2, 23, 0, 15, -1, True, False),\n",
       " ('1518-02-23-00-41', 1518, 2, 23, 0, 41, -1, False, True),\n",
       " ('1518-02-23-23-58', 1518, 2, 23, 23, 58, 3571, False, False),\n",
       " ('1518-02-24-00-20', 1518, 2, 24, 0, 20, -1, True, False),\n",
       " ('1518-02-24-00-59', 1518, 2, 24, 0, 59, -1, False, True),\n",
       " ('1518-02-25-00-01', 1518, 2, 25, 0, 1, 1697, False, False),\n",
       " ('1518-02-25-00-08', 1518, 2, 25, 0, 8, -1, True, False),\n",
       " ('1518-02-25-00-35', 1518, 2, 25, 0, 35, -1, False, True),\n",
       " ('1518-02-26-00-01', 1518, 2, 26, 0, 1, 2161, False, False)]"
      ]
     },
     "execution_count": 64,
     "metadata": {},
     "output_type": "execute_result"
    }
   ],
   "source": [
    "sorted_data = sorted(parsed, key=lambda item: item[0])\n",
    "sorted_data[:10]"
   ]
  },
  {
   "cell_type": "markdown",
   "metadata": {},
   "source": [
    "Let's split the data in shifts."
   ]
  },
  {
   "cell_type": "code",
   "execution_count": 83,
   "metadata": {},
   "outputs": [],
   "source": [
    "keys = ['full_date', 'year', 'month', 'day', 'hour', 'minute', 'guard_id', 'asleep', 'wakeup']"
   ]
  },
  {
   "cell_type": "code",
   "execution_count": 86,
   "metadata": {},
   "outputs": [
    {
     "data": {
      "text/plain": [
       "[('1518-02-22-23-58', 1518, 2, 22, 23, 58, 2543, False, False),\n",
       " ('1518-02-23-00-15', 1518, 2, 23, 0, 15, -1, True, False),\n",
       " ('1518-02-23-00-41', 1518, 2, 23, 0, 41, -1, False, True)]"
      ]
     },
     "execution_count": 86,
     "metadata": {},
     "output_type": "execute_result"
    }
   ],
   "source": [
    "shifts = []\n",
    "shift = []\n",
    "for line in sorted_data:\n",
    "    line_dict = dict(zip(keys, line))\n",
    "    if line_dict['guard_id'] == -1:\n",
    "        shift.append(line)\n",
    "    else:\n",
    "        shifts.append(shift)\n",
    "        shift = [line]\n",
    "shifts = shifts[1:]\n",
    "\n",
    "shifts[0]"
   ]
  },
  {
   "cell_type": "code",
   "execution_count": 110,
   "metadata": {},
   "outputs": [],
   "source": [
    "time_vectors = []\n",
    "for shift in shifts:\n",
    "    guard_id = dict(zip(keys, shift[0]))['guard_id']\n",
    "    date = dict(zip(keys, shift[0]))['full_date']\n",
    "    time_vector = [0 for _ in range(60)]\n",
    "    for start, end in zip(shift[1::2], shift[2::2]):\n",
    "        start_min = dict(zip(keys, start))['minute']\n",
    "        end_min = dict(zip(keys, end))['minute']\n",
    "        time_vector[start_min:end_min] = [1 for _ in range(start_min, end_min)]\n",
    "    time_vectors.append((full_date, guard_id, time_vector))"
   ]
  },
  {
   "cell_type": "code",
   "execution_count": 113,
   "metadata": {},
   "outputs": [
    {
     "data": {
      "text/plain": [
       "{157,\n",
       " 263,\n",
       " 283,\n",
       " 449,\n",
       " 577,\n",
       " 613,\n",
       " 883,\n",
       " 919,\n",
       " 953,\n",
       " 1091,\n",
       " 1307,\n",
       " 1571,\n",
       " 1597,\n",
       " 1607,\n",
       " 1619,\n",
       " 1697,\n",
       " 2161,\n",
       " 2423,\n",
       " 2467,\n",
       " 2543,\n",
       " 2801,\n",
       " 3299,\n",
       " 3571}"
      ]
     },
     "execution_count": 113,
     "metadata": {},
     "output_type": "execute_result"
    }
   ],
   "source": [
    "guard_ids = set(item[1] for item in time_vectors)\n",
    "guard_ids"
   ]
  },
  {
   "cell_type": "markdown",
   "metadata": {},
   "source": [
    "Who sleeps the most?"
   ]
  },
  {
   "cell_type": "code",
   "execution_count": 117,
   "metadata": {},
   "outputs": [
    {
     "data": {
      "text/plain": [
       "{157: 0,\n",
       " 263: 0,\n",
       " 283: 245,\n",
       " 449: 450,\n",
       " 577: 0,\n",
       " 613: 325,\n",
       " 883: 238,\n",
       " 919: 290,\n",
       " 953: 384,\n",
       " 1091: 185,\n",
       " 1307: 218,\n",
       " 1571: 493,\n",
       " 1597: 312,\n",
       " 1607: 140,\n",
       " 1619: 454,\n",
       " 1697: 337,\n",
       " 2161: 459,\n",
       " 2423: 251,\n",
       " 2467: 259,\n",
       " 2543: 150,\n",
       " 2801: 408,\n",
       " 3299: 390,\n",
       " 3571: 263}"
      ]
     },
     "execution_count": 117,
     "metadata": {},
     "output_type": "execute_result"
    }
   ],
   "source": [
    "sleepers = {}\n",
    "for this_guard_id in guard_ids:\n",
    "    slept = 0\n",
    "    for full_date, guard_id, time_vector in time_vectors:\n",
    "        if guard_id == this_guard_id:\n",
    "            slept += sum(time_vector)\n",
    "    sleepers[this_guard_id] = slept\n",
    "\n",
    "sleepers"
   ]
  },
  {
   "cell_type": "code",
   "execution_count": 120,
   "metadata": {},
   "outputs": [
    {
     "data": {
      "text/plain": [
       "[1571,\n",
       " 2161,\n",
       " 1619,\n",
       " 449,\n",
       " 2801,\n",
       " 3299,\n",
       " 953,\n",
       " 1697,\n",
       " 613,\n",
       " 1597,\n",
       " 919,\n",
       " 3571,\n",
       " 2467,\n",
       " 2423,\n",
       " 283,\n",
       " 883,\n",
       " 1307,\n",
       " 1091,\n",
       " 2543,\n",
       " 1607,\n",
       " 263,\n",
       " 157,\n",
       " 577]"
      ]
     },
     "execution_count": 120,
     "metadata": {},
     "output_type": "execute_result"
    }
   ],
   "source": [
    "sorted(sleepers, key=lambda item: sleepers[item], reverse=True)"
   ]
  },
  {
   "cell_type": "markdown",
   "metadata": {},
   "source": [
    "Let's now look at guard 1571."
   ]
  },
  {
   "cell_type": "code",
   "execution_count": 121,
   "metadata": {},
   "outputs": [],
   "source": [
    "import numpy as np"
   ]
  },
  {
   "cell_type": "code",
   "execution_count": 124,
   "metadata": {},
   "outputs": [
    {
     "data": {
      "text/plain": [
       "array([  1.,   2.,   2.,   2.,   2.,   3.,   5.,   5.,   5.,   6.,   9.,\n",
       "         9.,   9.,   9.,   9.,  10.,  10.,  10.,   9.,   9.,   9.,  10.,\n",
       "        11.,  11.,  10.,  10.,   9.,  11.,  11.,   9.,   9.,   9.,   9.,\n",
       "        10.,  10.,  10.,  10.,  10.,  10.,   7.,   7.,   7.,   7.,   8.,\n",
       "         9.,  10.,  10.,  11.,  11.,  10.,  10.,   9.,  10.,  11.,  12.,\n",
       "         9.,  11.,   7.,   3.,   0.])"
      ]
     },
     "execution_count": 124,
     "metadata": {},
     "output_type": "execute_result"
    }
   ],
   "source": [
    "average = np.zeros((60,))\n",
    "for full_date, guard_id, time_vector in time_vectors:\n",
    "    if guard_id == 1571:\n",
    "        average += time_vector\n",
    "average"
   ]
  },
  {
   "cell_type": "code",
   "execution_count": 125,
   "metadata": {},
   "outputs": [
    {
     "data": {
      "text/plain": [
       "12.0"
      ]
     },
     "execution_count": 125,
     "metadata": {},
     "output_type": "execute_result"
    }
   ],
   "source": [
    "average.max()"
   ]
  },
  {
   "cell_type": "code",
   "execution_count": 127,
   "metadata": {},
   "outputs": [
    {
     "data": {
      "text/plain": [
       "(array([54]),)"
      ]
     },
     "execution_count": 127,
     "metadata": {},
     "output_type": "execute_result"
    }
   ],
   "source": [
    "(average==12).nonzero()"
   ]
  },
  {
   "cell_type": "code",
   "execution_count": 128,
   "metadata": {},
   "outputs": [
    {
     "data": {
      "text/plain": [
       "84834"
      ]
     },
     "execution_count": 128,
     "metadata": {},
     "output_type": "execute_result"
    }
   ],
   "source": [
    "1571 * 54"
   ]
  },
  {
   "cell_type": "markdown",
   "metadata": {},
   "source": [
    "## part 2 "
   ]
  },
  {
   "cell_type": "code",
   "execution_count": 140,
   "metadata": {},
   "outputs": [
    {
     "name": "stdout",
     "output_type": "stream",
     "text": [
      "guard 263, max_minutes_slept 0.0, when [ 0  1  2  3  4  5  6  7  8  9 10 11 12 13 14 15 16 17 18 19 20 21 22 23 24\n",
      " 25 26 27 28 29 30 31 32 33 34 35 36 37 38 39 40 41 42 43 44 45 46 47 48 49\n",
      " 50 51 52 53 54 55 56 57 58 59]\n",
      "guard 919, max_minutes_slept 8.0, when [43 46 47 49 50 51]\n",
      "guard 283, max_minutes_slept 9.0, when [31 33]\n",
      "guard 1307, max_minutes_slept 7.0, when [29 30]\n",
      "guard 157, max_minutes_slept 0.0, when [ 0  1  2  3  4  5  6  7  8  9 10 11 12 13 14 15 16 17 18 19 20 21 22 23 24\n",
      " 25 26 27 28 29 30 31 32 33 34 35 36 37 38 39 40 41 42 43 44 45 46 47 48 49\n",
      " 50 51 52 53 54 55 56 57 58 59]\n",
      "guard 1697, max_minutes_slept 11.0, when [34 35 36 37 38]\n",
      "guard 1571, max_minutes_slept 12.0, when [54]\n",
      "guard 2467, max_minutes_slept 9.0, when [37]\n",
      "guard 953, max_minutes_slept 11.0, when [21 24 25 26]\n",
      "guard 1597, max_minutes_slept 9.0, when [27 35 36 37 44 45 46]\n",
      "guard 449, max_minutes_slept 12.0, when [43]\n",
      "guard 577, max_minutes_slept 0.0, when [ 0  1  2  3  4  5  6  7  8  9 10 11 12 13 14 15 16 17 18 19 20 21 22 23 24\n",
      " 25 26 27 28 29 30 31 32 33 34 35 36 37 38 39 40 41 42 43 44 45 46 47 48 49\n",
      " 50 51 52 53 54 55 56 57 58 59]\n",
      "guard 1091, max_minutes_slept 6.0, when [14 15]\n",
      "guard 1607, max_minutes_slept 5.0, when [49 50 51 52]\n",
      "guard 1619, max_minutes_slept 18.0, when [33]\n",
      "guard 3299, max_minutes_slept 11.0, when [28 30 31 32 33 34 35]\n",
      "guard 613, max_minutes_slept 9.0, when [38 39]\n",
      "guard 2543, max_minutes_slept 6.0, when [39]\n",
      "guard 2161, max_minutes_slept 13.0, when [36 37]\n",
      "guard 2801, max_minutes_slept 12.0, when [45]\n",
      "guard 3571, max_minutes_slept 9.0, when [38]\n",
      "guard 883, max_minutes_slept 8.0, when [43 44 45 49]\n",
      "guard 2423, max_minutes_slept 9.0, when [47 48]\n"
     ]
    }
   ],
   "source": [
    "averages = {}\n",
    "for this_guard_id in guard_ids:\n",
    "    average = np.zeros((60,))\n",
    "    for full_date, guard_id, time_vector in time_vectors:\n",
    "        if guard_id == this_guard_id:\n",
    "            average += time_vector\n",
    "    max_minutes = max(average)\n",
    "    minute = (average==max_minutes).nonzero()[0]\n",
    "    print(\"guard {}, max_minutes_slept {}, when {}\".format(this_guard_id, max_minutes, minute))"
   ]
  },
  {
   "cell_type": "code",
   "execution_count": 136,
   "metadata": {},
   "outputs": [
    {
     "data": {
      "text/plain": [
       "53427"
      ]
     },
     "execution_count": 136,
     "metadata": {},
     "output_type": "execute_result"
    }
   ],
   "source": [
    "33 * 1619"
   ]
  },
  {
   "cell_type": "code",
   "execution_count": null,
   "metadata": {},
   "outputs": [],
   "source": []
  }
 ],
 "metadata": {
  "kernelspec": {
   "display_name": "Python 3",
   "language": "python",
   "name": "python3"
  },
  "language_info": {
   "codemirror_mode": {
    "name": "ipython",
    "version": 3
   },
   "file_extension": ".py",
   "mimetype": "text/x-python",
   "name": "python",
   "nbconvert_exporter": "python",
   "pygments_lexer": "ipython3",
   "version": "3.6.1"
  },
  "toc": {
   "colors": {
    "hover_highlight": "#DAA520",
    "navigate_num": "#000000",
    "navigate_text": "#333333",
    "running_highlight": "#FF0000",
    "selected_highlight": "#FFD700",
    "sidebar_border": "#EEEEEE",
    "wrapper_background": "#FFFFFF"
   },
   "moveMenuLeft": true,
   "nav_menu": {
    "height": "32px",
    "width": "253px"
   },
   "navigate_menu": true,
   "number_sections": true,
   "sideBar": true,
   "threshold": 4,
   "toc_cell": false,
   "toc_section_display": "block",
   "toc_window_display": false,
   "widenNotebook": false
  }
 },
 "nbformat": 4,
 "nbformat_minor": 2
}
