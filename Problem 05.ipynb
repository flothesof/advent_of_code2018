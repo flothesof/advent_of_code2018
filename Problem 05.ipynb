{
 "cells": [
  {
   "cell_type": "code",
   "execution_count": 1,
   "metadata": {},
   "outputs": [],
   "source": [
    "sample = 'dabAcCaCBAcCcaDA'"
   ]
  },
  {
   "cell_type": "code",
   "execution_count": 2,
   "metadata": {},
   "outputs": [
    {
     "data": {
      "text/plain": [
       "10"
      ]
     },
     "execution_count": 2,
     "metadata": {},
     "output_type": "execute_result"
    }
   ],
   "source": [
    "polymer = sample[:]\n",
    "output = ''\n",
    "i = 0\n",
    "while i < len(polymer)-1:\n",
    "    u, v = polymer[i], polymer[i + 1]\n",
    "\n",
    "    if u.lower() == v.lower() and u != v:\n",
    "        # reaction\n",
    "        left = polymer[:i]\n",
    "        right = polymer[i+2:]\n",
    "        polymer = left + right\n",
    "        # move on\n",
    "        i = len(left) - 1\n",
    "        \n",
    "    else:\n",
    "        # no reaction\n",
    "        i += 1\n",
    "    #print(i, u, v, polymer)\n",
    "len(polymer)"
   ]
  },
  {
   "cell_type": "code",
   "execution_count": 3,
   "metadata": {},
   "outputs": [
    {
     "data": {
      "text/plain": [
       "True"
      ]
     },
     "execution_count": 3,
     "metadata": {},
     "output_type": "execute_result"
    }
   ],
   "source": [
    "polymer == 'dabCBAcaDA'"
   ]
  },
  {
   "cell_type": "markdown",
   "metadata": {},
   "source": [
    "Let's now try with the real input."
   ]
  },
  {
   "cell_type": "code",
   "execution_count": 4,
   "metadata": {},
   "outputs": [],
   "source": [
    "real_polymer = [line.strip() for line in open('input05').readlines()][0]"
   ]
  },
  {
   "cell_type": "code",
   "execution_count": 5,
   "metadata": {},
   "outputs": [
    {
     "data": {
      "text/plain": [
       "'tTRroUkKuI'"
      ]
     },
     "execution_count": 5,
     "metadata": {},
     "output_type": "execute_result"
    }
   ],
   "source": [
    "real_polymer[:10]\n",
    "real_polymer[-10:]"
   ]
  },
  {
   "cell_type": "code",
   "execution_count": 6,
   "metadata": {},
   "outputs": [],
   "source": [
    "def react_until_end_fast(polymer):\n",
    "    i = 0\n",
    "    while i < len(polymer)-1:\n",
    "        u, v = polymer[i], polymer[i + 1]\n",
    "\n",
    "        if u.lower() == v.lower() and u != v:\n",
    "            # reaction\n",
    "            left = polymer[:i]\n",
    "            right = polymer[i+2:]\n",
    "            assert(len(left + right) < len(polymer))\n",
    "            polymer = left + right\n",
    "\n",
    "            # move on\n",
    "            i = len(left) - 1\n",
    "            if i < 0:\n",
    "                i = 0\n",
    "        else:\n",
    "            # no reaction\n",
    "            i += 1\n",
    "        #print(i, u, v, polymer)\n",
    "    len(polymer)\n",
    "    return polymer"
   ]
  },
  {
   "cell_type": "code",
   "execution_count": 7,
   "metadata": {},
   "outputs": [
    {
     "data": {
      "text/plain": [
       "9686"
      ]
     },
     "execution_count": 7,
     "metadata": {},
     "output_type": "execute_result"
    }
   ],
   "source": [
    "len(react_until_end_fast(real_polymer))"
   ]
  },
  {
   "cell_type": "markdown",
   "metadata": {},
   "source": [
    "# Plan B "
   ]
  },
  {
   "cell_type": "markdown",
   "metadata": {},
   "source": [
    "It seems that I'm stuck here. Let's try plan B.\n",
    "\n",
    "We will write a function that scans the chain from its start and creates the next chain by reacting the first element it finds."
   ]
  },
  {
   "cell_type": "code",
   "execution_count": 8,
   "metadata": {},
   "outputs": [],
   "source": [
    "def react_once(polymer):\n",
    "    i = 0\n",
    "    while i < len(polymer)-1:\n",
    "        u, v = polymer[i], polymer[i + 1]\n",
    "\n",
    "        if u.lower() == v.lower() and u != v:\n",
    "            # reaction\n",
    "            left = polymer[:i]\n",
    "            right = polymer[i+2:]\n",
    "            assert(len(left + right) < len(polymer))\n",
    "            polymer = left + right\n",
    "            return polymer\n",
    "        else:\n",
    "            # no reaction\n",
    "            i += 1\n",
    "    return polymer"
   ]
  },
  {
   "cell_type": "code",
   "execution_count": 9,
   "metadata": {},
   "outputs": [
    {
     "data": {
      "text/plain": [
       "''"
      ]
     },
     "execution_count": 9,
     "metadata": {},
     "output_type": "execute_result"
    }
   ],
   "source": [
    "react_once('aA')"
   ]
  },
  {
   "cell_type": "code",
   "execution_count": 10,
   "metadata": {},
   "outputs": [
    {
     "data": {
      "text/plain": [
       "'aA'"
      ]
     },
     "execution_count": 10,
     "metadata": {},
     "output_type": "execute_result"
    }
   ],
   "source": [
    "react_once('abBA')"
   ]
  },
  {
   "cell_type": "code",
   "execution_count": 11,
   "metadata": {},
   "outputs": [
    {
     "data": {
      "text/plain": [
       "'abAB'"
      ]
     },
     "execution_count": 11,
     "metadata": {},
     "output_type": "execute_result"
    }
   ],
   "source": [
    "react_once('abAB')"
   ]
  },
  {
   "cell_type": "code",
   "execution_count": 12,
   "metadata": {},
   "outputs": [
    {
     "data": {
      "text/plain": [
       "'aabAAB'"
      ]
     },
     "execution_count": 12,
     "metadata": {},
     "output_type": "execute_result"
    }
   ],
   "source": [
    "react_once('aabAAB')"
   ]
  },
  {
   "cell_type": "code",
   "execution_count": 13,
   "metadata": {},
   "outputs": [
    {
     "data": {
      "text/plain": [
       "'dabAaCBAcCcaDA'"
      ]
     },
     "execution_count": 13,
     "metadata": {},
     "output_type": "execute_result"
    }
   ],
   "source": [
    "react_once('dabAcCaCBAcCcaDA')"
   ]
  },
  {
   "cell_type": "markdown",
   "metadata": {},
   "source": [
    "Now let's write a function that reacts until the reaction can not take place anymore."
   ]
  },
  {
   "cell_type": "code",
   "execution_count": 14,
   "metadata": {},
   "outputs": [],
   "source": [
    "def react_until_end(polymer):\n",
    "    \"\"\"Super slow!\"\"\"\n",
    "    n = len(polymer)\n",
    "    polymer = react_once(polymer)\n",
    "    while len(polymer) < n:\n",
    "        n = len(polymer)\n",
    "        polymer = react_once(polymer)\n",
    "    return polymer"
   ]
  },
  {
   "cell_type": "code",
   "execution_count": 15,
   "metadata": {},
   "outputs": [
    {
     "data": {
      "text/plain": [
       "'dabCBAcaDA'"
      ]
     },
     "execution_count": 15,
     "metadata": {},
     "output_type": "execute_result"
    }
   ],
   "source": [
    "react_until_end('dabAcCaCBAcCcaDA')"
   ]
  },
  {
   "cell_type": "code",
   "execution_count": 16,
   "metadata": {},
   "outputs": [
    {
     "data": {
      "text/plain": [
       "10"
      ]
     },
     "execution_count": 16,
     "metadata": {},
     "output_type": "execute_result"
    }
   ],
   "source": [
    "len('dabCBAcaDA')"
   ]
  },
  {
   "cell_type": "code",
   "execution_count": 17,
   "metadata": {},
   "outputs": [
    {
     "data": {
      "text/plain": [
       "9686"
      ]
     },
     "execution_count": 17,
     "metadata": {},
     "output_type": "execute_result"
    }
   ],
   "source": [
    "len(react_until_end(real_polymer))"
   ]
  },
  {
   "cell_type": "markdown",
   "metadata": {},
   "source": [
    "# Part B "
   ]
  },
  {
   "cell_type": "markdown",
   "metadata": {},
   "source": [
    "Let's write a function that replaces a unit."
   ]
  },
  {
   "cell_type": "code",
   "execution_count": 18,
   "metadata": {},
   "outputs": [],
   "source": [
    "def remove_unit(polymer, unit_type):\n",
    "    return polymer.replace(unit_type.lower(), '').replace(unit_type.upper(), '')"
   ]
  },
  {
   "cell_type": "code",
   "execution_count": 19,
   "metadata": {},
   "outputs": [
    {
     "data": {
      "text/plain": [
       "'dbcCCBcCcD'"
      ]
     },
     "execution_count": 19,
     "metadata": {},
     "output_type": "execute_result"
    }
   ],
   "source": [
    "remove_unit('dabAcCaCBAcCcaDA', 'a')"
   ]
  },
  {
   "cell_type": "code",
   "execution_count": 20,
   "metadata": {},
   "outputs": [
    {
     "name": "stdout",
     "output_type": "stream",
     "text": [
      "a 6\n",
      "b 8\n",
      "c 4\n",
      "d 6\n"
     ]
    }
   ],
   "source": [
    "for unit_type in 'abcd':\n",
    "    polymer = remove_unit('dabAcCaCBAcCcaDA', unit_type)\n",
    "    reacted = react_until_end_fast(polymer)\n",
    "    print(unit_type, len(reacted))"
   ]
  },
  {
   "cell_type": "code",
   "execution_count": 21,
   "metadata": {},
   "outputs": [
    {
     "name": "stdout",
     "output_type": "stream",
     "text": [
      "z 9268\n",
      "r 9326\n",
      "d 9282\n",
      "g 9314\n",
      "w 9364\n",
      "i 9276\n",
      "l 9314\n",
      "c 9262\n",
      "b 9368\n",
      "f 9316\n",
      "q 9306\n",
      "u 9280\n",
      "j 9336\n",
      "o 9320\n",
      "m 9228\n",
      "h 9316\n",
      "t 9250\n",
      "e 9304\n",
      "s 9284\n",
      "n 9274\n",
      "v 9260\n",
      "p 9322\n",
      "y 9278\n",
      "x 9368\n",
      "a 9272\n",
      "k 5524\n"
     ]
    },
    {
     "data": {
      "text/plain": [
       "5524"
      ]
     },
     "execution_count": 21,
     "metadata": {},
     "output_type": "execute_result"
    }
   ],
   "source": [
    "lens = []\n",
    "for unit_type in list(set(real_polymer.lower())):\n",
    "    polymer = remove_unit(real_polymer, unit_type)\n",
    "    reacted = react_until_end_fast(polymer)\n",
    "    lens.append(len(reacted))\n",
    "    print(unit_type, len(reacted))\n",
    "min(lens)"
   ]
  }
 ],
 "metadata": {
  "kernelspec": {
   "display_name": "Python 3",
   "language": "python",
   "name": "python3"
  },
  "language_info": {
   "codemirror_mode": {
    "name": "ipython",
    "version": 3
   },
   "file_extension": ".py",
   "mimetype": "text/x-python",
   "name": "python",
   "nbconvert_exporter": "python",
   "pygments_lexer": "ipython3",
   "version": "3.6.1"
  },
  "toc": {
   "colors": {
    "hover_highlight": "#DAA520",
    "navigate_num": "#000000",
    "navigate_text": "#333333",
    "running_highlight": "#FF0000",
    "selected_highlight": "#FFD700",
    "sidebar_border": "#EEEEEE",
    "wrapper_background": "#FFFFFF"
   },
   "moveMenuLeft": true,
   "nav_menu": {
    "height": "48px",
    "width": "252px"
   },
   "navigate_menu": true,
   "number_sections": true,
   "sideBar": true,
   "threshold": 4,
   "toc_cell": false,
   "toc_section_display": "block",
   "toc_window_display": false,
   "widenNotebook": false
  }
 },
 "nbformat": 4,
 "nbformat_minor": 2
}
