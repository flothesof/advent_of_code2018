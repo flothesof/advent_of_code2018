{
 "cells": [
  {
   "cell_type": "code",
   "execution_count": 58,
   "metadata": {},
   "outputs": [],
   "source": [
    "lines = [line.strip() for line in open('input03.txt').readlines()]\n",
    "claims = []\n",
    "for line in lines:\n",
    "    claim_id, r = line.split(' @ ')\n",
    "    edges, sizes = r.split(': ')\n",
    "    edge_left, top_edge = edges.split(',')\n",
    "    width, height = sizes.split('x')\n",
    "    claims.append((claim_id, int(edge_left), int(top_edge), int(width), int(height)))"
   ]
  },
  {
   "cell_type": "code",
   "execution_count": 59,
   "metadata": {},
   "outputs": [
    {
     "data": {
      "text/plain": [
       "[('#1', 755, 138, 26, 19),\n",
       " ('#2', 952, 518, 15, 24),\n",
       " ('#3', 304, 90, 28, 12),\n",
       " ('#4', 237, 265, 17, 13),\n",
       " ('#5', 219, 97, 26, 24),\n",
       " ('#6', 512, 74, 19, 21),\n",
       " ('#7', 868, 291, 22, 25),\n",
       " ('#8', 908, 272, 17, 11),\n",
       " ('#9', 432, 455, 10, 8),\n",
       " ('#10', 309, 778, 13, 25)]"
      ]
     },
     "execution_count": 59,
     "metadata": {},
     "output_type": "execute_result"
    }
   ],
   "source": [
    "claims[:10]"
   ]
  },
  {
   "cell_type": "code",
   "execution_count": 60,
   "metadata": {},
   "outputs": [],
   "source": [
    "sample = [(\"#1\", 1, 3, 4, 4),\n",
    "          ('#2', 3, 1, 4, 4),\n",
    "          ('#3', 5, 5, 2, 2)]"
   ]
  },
  {
   "cell_type": "markdown",
   "metadata": {},
   "source": [
    "Let's try the sample first:"
   ]
  },
  {
   "cell_type": "code",
   "execution_count": 28,
   "metadata": {},
   "outputs": [],
   "source": [
    "import numpy as np"
   ]
  },
  {
   "cell_type": "code",
   "execution_count": 61,
   "metadata": {},
   "outputs": [
    {
     "data": {
      "text/plain": [
       "4"
      ]
     },
     "execution_count": 61,
     "metadata": {},
     "output_type": "execute_result"
    }
   ],
   "source": [
    "sample_fabric = np.zeros((8, 8))\n",
    "\n",
    "for claim in sample:\n",
    "    claim_id, edge_left, top_edge, width, height = claim\n",
    "    sample_fabric[top_edge:top_edge+height, edge_left:edge_left+width] += 1\n",
    "\n",
    "sample_fabric[sample_fabric >= 2].size"
   ]
  },
  {
   "cell_type": "markdown",
   "metadata": {},
   "source": [
    "Now let's try the real input."
   ]
  },
  {
   "cell_type": "code",
   "execution_count": 56,
   "metadata": {},
   "outputs": [
    {
     "data": {
      "text/plain": [
       "103482"
      ]
     },
     "execution_count": 56,
     "metadata": {},
     "output_type": "execute_result"
    }
   ],
   "source": [
    "fabric = np.zeros((1000, 1000))\n",
    "\n",
    "for claim in claims:\n",
    "    claim_id, edge_left, top_edge, width, height = claim\n",
    "    fabric[top_edge:top_edge+height, edge_left:edge_left+width] += 1\n",
    "\n",
    "fabric[fabric >= 2].size"
   ]
  },
  {
   "cell_type": "markdown",
   "metadata": {},
   "source": [
    "## part 2 "
   ]
  },
  {
   "cell_type": "code",
   "execution_count": 71,
   "metadata": {},
   "outputs": [
    {
     "name": "stdout",
     "output_type": "stream",
     "text": [
      "3\n"
     ]
    }
   ],
   "source": [
    "sample_fabric = np.zeros((8, 8))\n",
    "\n",
    "for claim_id, edge_left, top_edge, width, height in sample:\n",
    "    claim_id = int(claim_id.split('#')[1])\n",
    "    sample_fabric[top_edge:top_edge+height, edge_left:edge_left+width] += claim_id\n",
    "    vals = sample_fabric[top_edge:top_edge+height, edge_left:edge_left+width]\n",
    "    vals[vals != claim_id] = np.nan\n",
    "    sample_fabric[top_edge:top_edge+height, edge_left:edge_left+width] = vals\n",
    "\n",
    "for claim_id, edge_left, top_edge, width, height in sample:\n",
    "    claim_id = int(claim_id.split('#')[1])\n",
    "    if sample_fabric[sample_fabric == claim_id].size == width * height:\n",
    "        print(claim_id)"
   ]
  },
  {
   "cell_type": "code",
   "execution_count": 74,
   "metadata": {},
   "outputs": [
    {
     "data": {
      "text/plain": [
       "array([[  0.,   0.,   0.,   0.,   0.,   0.,   0.,   0.],\n",
       "       [  0.,   0.,   0.,   2.,   2.,   2.,   2.,   0.],\n",
       "       [  0.,   0.,   0.,   2.,   2.,   2.,   2.,   0.],\n",
       "       [  0.,   1.,   1.,  nan,  nan,   2.,   2.,   0.],\n",
       "       [  0.,   1.,   1.,  nan,  nan,   2.,   2.,   0.],\n",
       "       [  0.,   1.,   1.,   1.,   1.,   3.,   3.,   0.],\n",
       "       [  0.,   1.,   1.,   1.,   1.,   3.,   3.,   0.],\n",
       "       [  0.,   0.,   0.,   0.,   0.,   0.,   0.,   0.]])"
      ]
     },
     "execution_count": 74,
     "metadata": {},
     "output_type": "execute_result"
    }
   ],
   "source": [
    "sample_fabric"
   ]
  },
  {
   "cell_type": "markdown",
   "metadata": {},
   "source": [
    "Now for real."
   ]
  },
  {
   "cell_type": "code",
   "execution_count": 76,
   "metadata": {},
   "outputs": [
    {
     "name": "stdout",
     "output_type": "stream",
     "text": [
      "686\n"
     ]
    }
   ],
   "source": [
    "fabric = np.zeros((1000, 1000))\n",
    "\n",
    "for claim_id, edge_left, top_edge, width, height in claims:\n",
    "    claim_id = int(claim_id.split('#')[1])\n",
    "    fabric[top_edge:top_edge+height, edge_left:edge_left+width] += claim_id\n",
    "    vals = fabric[top_edge:top_edge+height, edge_left:edge_left+width]\n",
    "    vals[vals != claim_id] = np.nan\n",
    "    fabric[top_edge:top_edge+height, edge_left:edge_left+width] = vals\n",
    "\n",
    "for claim_id, edge_left, top_edge, width, height in claims:\n",
    "    claim_id = int(claim_id.split('#')[1])\n",
    "    if fabric[fabric == claim_id].size == width * height:\n",
    "        print(claim_id)"
   ]
  }
 ],
 "metadata": {
  "kernelspec": {
   "display_name": "Python 3",
   "language": "python",
   "name": "python3"
  },
  "language_info": {
   "codemirror_mode": {
    "name": "ipython",
    "version": 3
   },
   "file_extension": ".py",
   "mimetype": "text/x-python",
   "name": "python",
   "nbconvert_exporter": "python",
   "pygments_lexer": "ipython3",
   "version": "3.6.1"
  },
  "toc": {
   "colors": {
    "hover_highlight": "#DAA520",
    "navigate_num": "#000000",
    "navigate_text": "#333333",
    "running_highlight": "#FF0000",
    "selected_highlight": "#FFD700",
    "sidebar_border": "#EEEEEE",
    "wrapper_background": "#FFFFFF"
   },
   "moveMenuLeft": true,
   "nav_menu": {
    "height": "32px",
    "width": "253px"
   },
   "navigate_menu": true,
   "number_sections": true,
   "sideBar": true,
   "threshold": 4,
   "toc_cell": false,
   "toc_section_display": "block",
   "toc_window_display": false,
   "widenNotebook": false
  }
 },
 "nbformat": 4,
 "nbformat_minor": 2
}
